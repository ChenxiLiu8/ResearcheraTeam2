{
  "nbformat": 4,
  "nbformat_minor": 0,
  "metadata": {
    "colab": {
      "name": "airport_delay_model_regression.ipynb",
      "provenance": [],
      "collapsed_sections": [],
      "machine_shape": "hm",
      "authorship_tag": "ABX9TyPL6PWylz9xsGSG1hAwZVq4",
      "include_colab_link": true
    },
    "kernelspec": {
      "name": "python3",
      "display_name": "Python 3"
    }
  },
  "cells": [
    {
      "cell_type": "markdown",
      "metadata": {
        "id": "view-in-github",
        "colab_type": "text"
      },
      "source": [
        "<a href=\"https://colab.research.google.com/github/ChenxiLiu8/ResearcheraTeam2/blob/main/airport_delay_model_regression.ipynb\" target=\"_parent\"><img src=\"https://colab.research.google.com/assets/colab-badge.svg\" alt=\"Open In Colab\"/></a>"
      ]
    },
    {
      "cell_type": "markdown",
      "metadata": {
        "id": "iIR9HT2-dXlj"
      },
      "source": [
        "# **Classification Model For Predicting Airline Delay and Cancellation**"
      ]
    },
    {
      "cell_type": "markdown",
      "metadata": {
        "id": "X_pMK-GGeAsW"
      },
      "source": [
        "## **Set up environment and load the data**"
      ]
    },
    {
      "cell_type": "markdown",
      "metadata": {
        "id": "KUUkCW65dd2-"
      },
      "source": [
        "Set up Spark Environment\r\n"
      ]
    },
    {
      "cell_type": "code",
      "metadata": {
        "id": "Yts3wSck53Gg"
      },
      "source": [
        "# innstall java\r\n",
        "!apt-get install openjdk-8-jdk-headless -qq > /dev/null\r\n",
        "\r\n",
        "# install spark (change the version number if needed)\r\n",
        "!wget -q https://archive.apache.org/dist/spark/spark-3.0.0/spark-3.0.0-bin-hadoop3.2.tgz\r\n",
        "\r\n",
        "# unzip the spark file to the current folder\r\n",
        "!tar xf spark-3.0.0-bin-hadoop3.2.tgz\r\n",
        "\r\n",
        "# set your spark folder to your system path environment. \r\n",
        "import os\r\n",
        "os.environ[\"JAVA_HOME\"] = \"/usr/lib/jvm/java-8-openjdk-amd64\"\r\n",
        "os.environ[\"SPARK_HOME\"] = \"/content/spark-3.0.0-bin-hadoop3.2\"\r\n",
        "\r\n",
        "\r\n",
        "# install findspark using pip\r\n",
        "!pip install -q findspark"
      ],
      "execution_count": null,
      "outputs": []
    },
    {
      "cell_type": "code",
      "metadata": {
        "id": "bngLJFKx7NSp"
      },
      "source": [
        "import findspark\r\n",
        "findspark.init()\r\n",
        "from pyspark.sql import SparkSession\r\n",
        "spark = SparkSession.builder.master(\"local[*]\").getOrCreate()"
      ],
      "execution_count": null,
      "outputs": []
    },
    {
      "cell_type": "markdown",
      "metadata": {
        "id": "nqXqgCGadmdi"
      },
      "source": [
        "Load in Data"
      ]
    },
    {
      "cell_type": "code",
      "metadata": {
        "id": "rjGxS74Rb3i6"
      },
      "source": [
        "import pandas as pd \r\n",
        "from google.colab import drive \r\n"
      ],
      "execution_count": null,
      "outputs": []
    },
    {
      "cell_type": "code",
      "metadata": {
        "colab": {
          "base_uri": "https://localhost:8080/"
        },
        "id": "26rP6ADxcn5B",
        "outputId": "49097dd1-6294-46f4-95ae-defdf7bbb518"
      },
      "source": [
        "drive.mount('/content/gdrive')"
      ],
      "execution_count": null,
      "outputs": [
        {
          "output_type": "stream",
          "text": [
            "Drive already mounted at /content/gdrive; to attempt to forcibly remount, call drive.mount(\"/content/gdrive\", force_remount=True).\n"
          ],
          "name": "stdout"
        }
      ]
    },
    {
      "cell_type": "code",
      "metadata": {
        "id": "YYT9pHUlcy5j"
      },
      "source": [
        "df = spark.read.load('/content/gdrive/My Drive/2007.csv',\r\n",
        "                     format=\"csv\", sep=\",\", inferSchema=\"true\", header=\"true\")"
      ],
      "execution_count": null,
      "outputs": []
    },
    {
      "cell_type": "markdown",
      "metadata": {
        "id": "Iau1HQjVdpUV"
      },
      "source": [
        "Check Data's Column"
      ]
    },
    {
      "cell_type": "code",
      "metadata": {
        "colab": {
          "base_uri": "https://localhost:8080/"
        },
        "id": "imQrATkBdbuE",
        "outputId": "dc3d16e4-823a-477a-d30e-516c9bdaa263"
      },
      "source": [
        "df.printSchema()"
      ],
      "execution_count": null,
      "outputs": [
        {
          "output_type": "stream",
          "text": [
            "root\n",
            " |-- Year: integer (nullable = true)\n",
            " |-- Month: integer (nullable = true)\n",
            " |-- DayofMonth: integer (nullable = true)\n",
            " |-- DayOfWeek: integer (nullable = true)\n",
            " |-- DepTime: string (nullable = true)\n",
            " |-- CRSDepTime: integer (nullable = true)\n",
            " |-- ArrTime: string (nullable = true)\n",
            " |-- CRSArrTime: integer (nullable = true)\n",
            " |-- UniqueCarrier: string (nullable = true)\n",
            " |-- FlightNum: integer (nullable = true)\n",
            " |-- TailNum: string (nullable = true)\n",
            " |-- ActualElapsedTime: string (nullable = true)\n",
            " |-- CRSElapsedTime: string (nullable = true)\n",
            " |-- AirTime: string (nullable = true)\n",
            " |-- ArrDelay: string (nullable = true)\n",
            " |-- DepDelay: string (nullable = true)\n",
            " |-- Origin: string (nullable = true)\n",
            " |-- Dest: string (nullable = true)\n",
            " |-- Distance: integer (nullable = true)\n",
            " |-- TaxiIn: integer (nullable = true)\n",
            " |-- TaxiOut: integer (nullable = true)\n",
            " |-- Cancelled: integer (nullable = true)\n",
            " |-- CancellationCode: string (nullable = true)\n",
            " |-- Diverted: integer (nullable = true)\n",
            " |-- CarrierDelay: integer (nullable = true)\n",
            " |-- WeatherDelay: integer (nullable = true)\n",
            " |-- NASDelay: integer (nullable = true)\n",
            " |-- SecurityDelay: integer (nullable = true)\n",
            " |-- LateAircraftDelay: integer (nullable = true)\n",
            "\n"
          ],
          "name": "stdout"
        }
      ]
    },
    {
      "cell_type": "markdown",
      "metadata": {
        "id": "yTSqIbrTdsAz"
      },
      "source": [
        "Show sample data "
      ]
    },
    {
      "cell_type": "code",
      "metadata": {
        "colab": {
          "base_uri": "https://localhost:8080/"
        },
        "id": "GPscBwstc2_A",
        "outputId": "5fba3597-c5dd-45f7-b14b-9970ca62cdef"
      },
      "source": [
        "df.show(10)"
      ],
      "execution_count": null,
      "outputs": [
        {
          "output_type": "stream",
          "text": [
            "+----+-----+----------+---------+-------+----------+-------+----------+-------------+---------+-------+-----------------+--------------+-------+--------+--------+------+----+--------+------+-------+---------+----------------+--------+------------+------------+--------+-------------+-----------------+\n",
            "|Year|Month|DayofMonth|DayOfWeek|DepTime|CRSDepTime|ArrTime|CRSArrTime|UniqueCarrier|FlightNum|TailNum|ActualElapsedTime|CRSElapsedTime|AirTime|ArrDelay|DepDelay|Origin|Dest|Distance|TaxiIn|TaxiOut|Cancelled|CancellationCode|Diverted|CarrierDelay|WeatherDelay|NASDelay|SecurityDelay|LateAircraftDelay|\n",
            "+----+-----+----------+---------+-------+----------+-------+----------+-------------+---------+-------+-----------------+--------------+-------+--------+--------+------+----+--------+------+-------+---------+----------------+--------+------------+------------+--------+-------------+-----------------+\n",
            "|2007|    1|         1|        1|   1232|      1225|   1341|      1340|           WN|     2891|   N351|               69|            75|     54|       1|       7|   SMF| ONT|     389|     4|     11|        0|            null|       0|           0|           0|       0|            0|                0|\n",
            "|2007|    1|         1|        1|   1918|      1905|   2043|      2035|           WN|      462|   N370|               85|            90|     74|       8|      13|   SMF| PDX|     479|     5|      6|        0|            null|       0|           0|           0|       0|            0|                0|\n",
            "|2007|    1|         1|        1|   2206|      2130|   2334|      2300|           WN|     1229|   N685|               88|            90|     73|      34|      36|   SMF| PDX|     479|     6|      9|        0|            null|       0|           3|           0|       0|            0|               31|\n",
            "|2007|    1|         1|        1|   1230|      1200|   1356|      1330|           WN|     1355|   N364|               86|            90|     75|      26|      30|   SMF| PDX|     479|     3|      8|        0|            null|       0|          23|           0|       0|            0|                3|\n",
            "|2007|    1|         1|        1|    831|       830|    957|      1000|           WN|     2278|   N480|               86|            90|     74|      -3|       1|   SMF| PDX|     479|     3|      9|        0|            null|       0|           0|           0|       0|            0|                0|\n",
            "|2007|    1|         1|        1|   1430|      1420|   1553|      1550|           WN|     2386| N611SW|               83|            90|     74|       3|      10|   SMF| PDX|     479|     2|      7|        0|            null|       0|           0|           0|       0|            0|                0|\n",
            "|2007|    1|         1|        1|   1936|      1840|   2217|      2130|           WN|      409|   N482|              101|           110|     89|      47|      56|   SMF| PHX|     647|     5|      7|        0|            null|       0|          46|           0|       0|            0|                1|\n",
            "|2007|    1|         1|        1|    944|       935|   1223|      1225|           WN|     1131| N749SW|               99|           110|     86|      -2|       9|   SMF| PHX|     647|     4|      9|        0|            null|       0|           0|           0|       0|            0|                0|\n",
            "|2007|    1|         1|        1|   1537|      1450|   1819|      1735|           WN|     1212|   N451|              102|           105|     90|      44|      47|   SMF| PHX|     647|     5|      7|        0|            null|       0|          20|           0|       0|            0|               24|\n",
            "|2007|    1|         1|        1|   1318|      1315|   1603|      1610|           WN|     2456| N630WN|              105|           115|     92|      -7|       3|   SMF| PHX|     647|     5|      8|        0|            null|       0|           0|           0|       0|            0|                0|\n",
            "+----+-----+----------+---------+-------+----------+-------+----------+-------------+---------+-------+-----------------+--------------+-------+--------+--------+------+----+--------+------+-------+---------+----------------+--------+------------+------------+--------+-------------+-----------------+\n",
            "only showing top 10 rows\n",
            "\n"
          ],
          "name": "stdout"
        }
      ]
    },
    {
      "cell_type": "code",
      "metadata": {
        "colab": {
          "base_uri": "https://localhost:8080/"
        },
        "id": "XJlEb8zRd7RD",
        "outputId": "bd6732c4-98c7-484e-a4c3-65b7c5cfa811"
      },
      "source": [
        "df.count()"
      ],
      "execution_count": null,
      "outputs": [
        {
          "output_type": "execute_result",
          "data": {
            "text/plain": [
              "7453215"
            ]
          },
          "metadata": {
            "tags": []
          },
          "execution_count": 8
        }
      ]
    },
    {
      "cell_type": "markdown",
      "metadata": {
        "id": "SnS3tL_IeIPH"
      },
      "source": [
        "## **Data preprocessing for modeling**"
      ]
    },
    {
      "cell_type": "markdown",
      "metadata": {
        "id": "HjMAFn6EdvSB"
      },
      "source": [
        "Column Choice \r\n",
        "* We only look at the data that people might have gather before the flight took off "
      ]
    },
    {
      "cell_type": "code",
      "metadata": {
        "id": "U4mo6ml_yUCz"
      },
      "source": [
        "col_to_keep = ['Month','DayofMonth','DayOfWeek','DayOfWeek','CRSDepTime','CRSArrTime','UniqueCarrier','FlightNum','TailNum','CRSElapsedTime','AirTime','DepDelay','Origin','Dest','Distance','Cancelled','ArrDelay']\r\n",
        "df = df.select([c for c in df.columns if c in col_to_keep])"
      ],
      "execution_count": null,
      "outputs": []
    },
    {
      "cell_type": "code",
      "metadata": {
        "colab": {
          "base_uri": "https://localhost:8080/"
        },
        "id": "5FwVqnH_y0bW",
        "outputId": "2e034fc6-79cb-4525-f703-aa1d4acb6f67"
      },
      "source": [
        "df.printSchema()"
      ],
      "execution_count": null,
      "outputs": [
        {
          "output_type": "stream",
          "text": [
            "root\n",
            " |-- Month: integer (nullable = true)\n",
            " |-- DayofMonth: integer (nullable = true)\n",
            " |-- DayOfWeek: integer (nullable = true)\n",
            " |-- CRSDepTime: integer (nullable = true)\n",
            " |-- CRSArrTime: integer (nullable = true)\n",
            " |-- UniqueCarrier: string (nullable = true)\n",
            " |-- FlightNum: integer (nullable = true)\n",
            " |-- TailNum: string (nullable = true)\n",
            " |-- CRSElapsedTime: string (nullable = true)\n",
            " |-- AirTime: string (nullable = true)\n",
            " |-- ArrDelay: string (nullable = true)\n",
            " |-- DepDelay: string (nullable = true)\n",
            " |-- Origin: string (nullable = true)\n",
            " |-- Dest: string (nullable = true)\n",
            " |-- Distance: integer (nullable = true)\n",
            " |-- Cancelled: integer (nullable = true)\n",
            "\n"
          ],
          "name": "stdout"
        }
      ]
    },
    {
      "cell_type": "code",
      "metadata": {
        "colab": {
          "base_uri": "https://localhost:8080/"
        },
        "id": "y4FSB1kfy3ud",
        "outputId": "c248b0ea-a8a8-4b50-d274-8231a2740381"
      },
      "source": [
        "df.show(10)"
      ],
      "execution_count": null,
      "outputs": [
        {
          "output_type": "stream",
          "text": [
            "+-----+----------+---------+----------+----------+-------------+---------+-------+--------------+-------+--------+--------+------+----+--------+---------+\n",
            "|Month|DayofMonth|DayOfWeek|CRSDepTime|CRSArrTime|UniqueCarrier|FlightNum|TailNum|CRSElapsedTime|AirTime|ArrDelay|DepDelay|Origin|Dest|Distance|Cancelled|\n",
            "+-----+----------+---------+----------+----------+-------------+---------+-------+--------------+-------+--------+--------+------+----+--------+---------+\n",
            "|    1|         1|        1|      1225|      1340|           WN|     2891|   N351|            75|     54|       1|       7|   SMF| ONT|     389|        0|\n",
            "|    1|         1|        1|      1905|      2035|           WN|      462|   N370|            90|     74|       8|      13|   SMF| PDX|     479|        0|\n",
            "|    1|         1|        1|      2130|      2300|           WN|     1229|   N685|            90|     73|      34|      36|   SMF| PDX|     479|        0|\n",
            "|    1|         1|        1|      1200|      1330|           WN|     1355|   N364|            90|     75|      26|      30|   SMF| PDX|     479|        0|\n",
            "|    1|         1|        1|       830|      1000|           WN|     2278|   N480|            90|     74|      -3|       1|   SMF| PDX|     479|        0|\n",
            "|    1|         1|        1|      1420|      1550|           WN|     2386| N611SW|            90|     74|       3|      10|   SMF| PDX|     479|        0|\n",
            "|    1|         1|        1|      1840|      2130|           WN|      409|   N482|           110|     89|      47|      56|   SMF| PHX|     647|        0|\n",
            "|    1|         1|        1|       935|      1225|           WN|     1131| N749SW|           110|     86|      -2|       9|   SMF| PHX|     647|        0|\n",
            "|    1|         1|        1|      1450|      1735|           WN|     1212|   N451|           105|     90|      44|      47|   SMF| PHX|     647|        0|\n",
            "|    1|         1|        1|      1315|      1610|           WN|     2456| N630WN|           115|     92|      -7|       3|   SMF| PHX|     647|        0|\n",
            "+-----+----------+---------+----------+----------+-------------+---------+-------+--------------+-------+--------+--------+------+----+--------+---------+\n",
            "only showing top 10 rows\n",
            "\n"
          ],
          "name": "stdout"
        }
      ]
    },
    {
      "cell_type": "markdown",
      "metadata": {
        "id": "wI855A6eehjy"
      },
      "source": [
        "Cast the schemas to its corrected type "
      ]
    },
    {
      "cell_type": "code",
      "metadata": {
        "id": "20Ziwahe0_dr"
      },
      "source": [
        "from pyspark.sql.types import *\r\n",
        "df = df.withColumn(\"CRSElapsedTime\", df[\"CRSElapsedTime\"].cast(IntegerType()))\r\n",
        "df = df.withColumn(\"AirTime\", df[\"AirTime\"].cast(IntegerType()))\r\n",
        "df = df.withColumn(\"DepDelay\", df[\"DepDelay\"].cast(IntegerType()))\r\n",
        "df = df.withColumn(\"ArrDelay\", df[\"ArrDelay\"].cast(IntegerType()))"
      ],
      "execution_count": null,
      "outputs": []
    },
    {
      "cell_type": "code",
      "metadata": {
        "colab": {
          "base_uri": "https://localhost:8080/"
        },
        "id": "A61Y9mVn1tK1",
        "outputId": "fcba5bf4-9046-4113-ce95-948d470f6502"
      },
      "source": [
        "df.printSchema()"
      ],
      "execution_count": null,
      "outputs": [
        {
          "output_type": "stream",
          "text": [
            "root\n",
            " |-- Month: integer (nullable = true)\n",
            " |-- DayofMonth: integer (nullable = true)\n",
            " |-- DayOfWeek: integer (nullable = true)\n",
            " |-- CRSDepTime: integer (nullable = true)\n",
            " |-- CRSArrTime: integer (nullable = true)\n",
            " |-- UniqueCarrier: string (nullable = true)\n",
            " |-- FlightNum: integer (nullable = true)\n",
            " |-- TailNum: string (nullable = true)\n",
            " |-- CRSElapsedTime: integer (nullable = true)\n",
            " |-- AirTime: integer (nullable = true)\n",
            " |-- ArrDelay: integer (nullable = true)\n",
            " |-- DepDelay: integer (nullable = true)\n",
            " |-- Origin: string (nullable = true)\n",
            " |-- Dest: string (nullable = true)\n",
            " |-- Distance: integer (nullable = true)\n",
            " |-- Cancelled: integer (nullable = true)\n",
            "\n"
          ],
          "name": "stdout"
        }
      ]
    },
    {
      "cell_type": "markdown",
      "metadata": {
        "id": "IsJ1wlE_e1ya"
      },
      "source": [
        "Remove nulls "
      ]
    },
    {
      "cell_type": "code",
      "metadata": {
        "id": "jdtUQITCBEKk"
      },
      "source": [
        "df = df.filter(df.Month. isNotNull())\r\n",
        "df = df.filter(df.DayofMonth. isNotNull())\r\n",
        "df = df.filter(df.DayOfWeek. isNotNull())\r\n",
        "df = df.filter(df.CRSDepTime. isNotNull())\r\n",
        "df = df.filter(df.CRSArrTime. isNotNull())\r\n",
        "df = df.filter(df.UniqueCarrier. isNotNull())\r\n",
        "df = df.filter(df.FlightNum. isNotNull())\r\n",
        "df = df.filter(df.TailNum. isNotNull())\r\n",
        "df = df.filter(df.CRSElapsedTime. isNotNull())\r\n",
        "#df = df.filter(df.AirTime. isNotNull())\r\n",
        "#df = df.filter(df.DepDelay. isNotNull())\r\n",
        "df = df.filter(df.Origin. isNotNull())\r\n",
        "df = df.filter(df.Dest. isNotNull())\r\n",
        "df = df.filter(df.Distance. isNotNull())\r\n",
        "df = df.filter(df.Cancelled. isNotNull())\r\n",
        "#df = df.filter(df.ArrDelay. isNotNull())"
      ],
      "execution_count": null,
      "outputs": []
    },
    {
      "cell_type": "code",
      "metadata": {
        "colab": {
          "base_uri": "https://localhost:8080/"
        },
        "id": "h-YDS97OBKOk",
        "outputId": "b1efe06c-6a53-444d-ac54-eb69367142c1"
      },
      "source": [
        "df.count()"
      ],
      "execution_count": null,
      "outputs": [
        {
          "output_type": "execute_result",
          "data": {
            "text/plain": [
              "7452200"
            ]
          },
          "metadata": {
            "tags": []
          },
          "execution_count": 15
        }
      ]
    },
    {
      "cell_type": "markdown",
      "metadata": {
        "id": "_tdIBQore698"
      },
      "source": [
        "Build label column "
      ]
    },
    {
      "cell_type": "code",
      "metadata": {
        "id": "Galv3tnggwFm"
      },
      "source": [
        "def generate_label(depdelay, arrdelay, cancelled):\r\n",
        "  if depdelay is None and arrdelay is None and cancelled is None:\r\n",
        "    return None\r\n",
        "  if cancelled == 1:\r\n",
        "    return \"Over 120 minuates delay or cancelled\"  \r\n",
        "  if depdelay is None: \r\n",
        "    delay_sum = arrdelay\r\n",
        "  elif arrdelay is None:\r\n",
        "    delay_sum = depdelay\r\n",
        "  else:\r\n",
        "    delay_sum = depdelay + arrdelay \r\n",
        "  if delay_sum <= 30:\r\n",
        "    return \"Less than 30 minuates delay or on Time\"\r\n",
        "  elif delay_sum <= 120:\r\n",
        "    return \"Between 30 and 120 minuates delay\"\r\n",
        "  elif delay_sum > 120:\r\n",
        "    return \"Over 120 minuates delay or cancelled\"\r\n"
      ],
      "execution_count": null,
      "outputs": []
    },
    {
      "cell_type": "code",
      "metadata": {
        "id": "HtYLVfwsjjCU"
      },
      "source": [
        "import pyspark.sql.functions as F\r\n",
        "udfgenerate = F.udf(generate_label, StringType())\r\n",
        "df_with_label = df.withColumn(\"DelayLabel\", udfgenerate(\"DepDelay\", \"ArrDelay\", \"Cancelled\"))"
      ],
      "execution_count": null,
      "outputs": []
    },
    {
      "cell_type": "code",
      "metadata": {
        "id": "zHVkUKDWpsa0",
        "colab": {
          "base_uri": "https://localhost:8080/"
        },
        "outputId": "4b23988a-936a-45ff-8da8-6cf71bc89a49"
      },
      "source": [
        "df_with_label.count()"
      ],
      "execution_count": null,
      "outputs": [
        {
          "output_type": "execute_result",
          "data": {
            "text/plain": [
              "7452200"
            ]
          },
          "metadata": {
            "tags": []
          },
          "execution_count": 18
        }
      ]
    },
    {
      "cell_type": "code",
      "metadata": {
        "id": "pp6dQ7NGpwQv",
        "colab": {
          "base_uri": "https://localhost:8080/"
        },
        "outputId": "ff59500f-1086-412c-e496-24585dc4542f"
      },
      "source": [
        "df_with_label.show(10)"
      ],
      "execution_count": null,
      "outputs": [
        {
          "output_type": "stream",
          "text": [
            "+-----+----------+---------+----------+----------+-------------+---------+-------+--------------+-------+--------+--------+------+----+--------+---------+--------------------+\n",
            "|Month|DayofMonth|DayOfWeek|CRSDepTime|CRSArrTime|UniqueCarrier|FlightNum|TailNum|CRSElapsedTime|AirTime|ArrDelay|DepDelay|Origin|Dest|Distance|Cancelled|          DelayLabel|\n",
            "+-----+----------+---------+----------+----------+-------------+---------+-------+--------------+-------+--------+--------+------+----+--------+---------+--------------------+\n",
            "|    1|         1|        1|      1225|      1340|           WN|     2891|   N351|            75|     54|       1|       7|   SMF| ONT|     389|        0|Less than 30 minu...|\n",
            "|    1|         1|        1|      1905|      2035|           WN|      462|   N370|            90|     74|       8|      13|   SMF| PDX|     479|        0|Less than 30 minu...|\n",
            "|    1|         1|        1|      2130|      2300|           WN|     1229|   N685|            90|     73|      34|      36|   SMF| PDX|     479|        0|Between 30 and 12...|\n",
            "|    1|         1|        1|      1200|      1330|           WN|     1355|   N364|            90|     75|      26|      30|   SMF| PDX|     479|        0|Between 30 and 12...|\n",
            "|    1|         1|        1|       830|      1000|           WN|     2278|   N480|            90|     74|      -3|       1|   SMF| PDX|     479|        0|Less than 30 minu...|\n",
            "|    1|         1|        1|      1420|      1550|           WN|     2386| N611SW|            90|     74|       3|      10|   SMF| PDX|     479|        0|Less than 30 minu...|\n",
            "|    1|         1|        1|      1840|      2130|           WN|      409|   N482|           110|     89|      47|      56|   SMF| PHX|     647|        0|Between 30 and 12...|\n",
            "|    1|         1|        1|       935|      1225|           WN|     1131| N749SW|           110|     86|      -2|       9|   SMF| PHX|     647|        0|Less than 30 minu...|\n",
            "|    1|         1|        1|      1450|      1735|           WN|     1212|   N451|           105|     90|      44|      47|   SMF| PHX|     647|        0|Between 30 and 12...|\n",
            "|    1|         1|        1|      1315|      1610|           WN|     2456| N630WN|           115|     92|      -7|       3|   SMF| PHX|     647|        0|Less than 30 minu...|\n",
            "+-----+----------+---------+----------+----------+-------------+---------+-------+--------------+-------+--------+--------+------+----+--------+---------+--------------------+\n",
            "only showing top 10 rows\n",
            "\n"
          ],
          "name": "stdout"
        }
      ]
    },
    {
      "cell_type": "markdown",
      "metadata": {
        "id": "tR-WUIKSrXU3"
      },
      "source": [
        "filter out used columns "
      ]
    },
    {
      "cell_type": "code",
      "metadata": {
        "id": "ouHlnsdgrbWY"
      },
      "source": [
        "col_to_keep = ['Month','DayofMonth','DayOfWeek','DayOfWeek','CRSDepTime','CRSArrTime','UniqueCarrier','FlightNum','TailNum','CRSElapsedTime','Origin','Dest','Distance', 'DelayLabel']\r\n",
        "df_with_label = df_with_label.select([c for c in df_with_label.columns if c in col_to_keep])"
      ],
      "execution_count": null,
      "outputs": []
    },
    {
      "cell_type": "code",
      "metadata": {
        "colab": {
          "base_uri": "https://localhost:8080/"
        },
        "id": "TP3DsK-SrvVV",
        "outputId": "8a8646b6-f906-4f31-c353-9c18651b7e75"
      },
      "source": [
        "df_with_label.show(10)"
      ],
      "execution_count": null,
      "outputs": [
        {
          "output_type": "stream",
          "text": [
            "+-----+----------+---------+----------+----------+-------------+---------+-------+--------------+------+----+--------+--------------------+\n",
            "|Month|DayofMonth|DayOfWeek|CRSDepTime|CRSArrTime|UniqueCarrier|FlightNum|TailNum|CRSElapsedTime|Origin|Dest|Distance|          DelayLabel|\n",
            "+-----+----------+---------+----------+----------+-------------+---------+-------+--------------+------+----+--------+--------------------+\n",
            "|    1|         1|        1|      1225|      1340|           WN|     2891|   N351|            75|   SMF| ONT|     389|Less than 30 minu...|\n",
            "|    1|         1|        1|      1905|      2035|           WN|      462|   N370|            90|   SMF| PDX|     479|Less than 30 minu...|\n",
            "|    1|         1|        1|      2130|      2300|           WN|     1229|   N685|            90|   SMF| PDX|     479|Between 30 and 12...|\n",
            "|    1|         1|        1|      1200|      1330|           WN|     1355|   N364|            90|   SMF| PDX|     479|Between 30 and 12...|\n",
            "|    1|         1|        1|       830|      1000|           WN|     2278|   N480|            90|   SMF| PDX|     479|Less than 30 minu...|\n",
            "|    1|         1|        1|      1420|      1550|           WN|     2386| N611SW|            90|   SMF| PDX|     479|Less than 30 minu...|\n",
            "|    1|         1|        1|      1840|      2130|           WN|      409|   N482|           110|   SMF| PHX|     647|Between 30 and 12...|\n",
            "|    1|         1|        1|       935|      1225|           WN|     1131| N749SW|           110|   SMF| PHX|     647|Less than 30 minu...|\n",
            "|    1|         1|        1|      1450|      1735|           WN|     1212|   N451|           105|   SMF| PHX|     647|Between 30 and 12...|\n",
            "|    1|         1|        1|      1315|      1610|           WN|     2456| N630WN|           115|   SMF| PHX|     647|Less than 30 minu...|\n",
            "+-----+----------+---------+----------+----------+-------------+---------+-------+--------------+------+----+--------+--------------------+\n",
            "only showing top 10 rows\n",
            "\n"
          ],
          "name": "stdout"
        }
      ]
    },
    {
      "cell_type": "code",
      "metadata": {
        "id": "wabLEpfgtMQw"
      },
      "source": [
        "df_under_30 = df_with_label.filter(df_with_label.DelayLabel == 'Less than 30 minuates delay or on Time')\r\n",
        "df_under_120 = df_with_label.filter(df_with_label.DelayLabel == 'Between 30 and 120 minuates delay')\r\n",
        "df_120_above = df_with_label.filter(df_with_label.DelayLabel == 'Over 120 minuates delay or cancelled')"
      ],
      "execution_count": null,
      "outputs": []
    },
    {
      "cell_type": "code",
      "metadata": {
        "id": "XSN-iYKLtM-X",
        "colab": {
          "base_uri": "https://localhost:8080/"
        },
        "outputId": "d4fd57f7-2ff3-4dde-e680-4cbc75bf635b"
      },
      "source": [
        "df_with_label.count()"
      ],
      "execution_count": null,
      "outputs": [
        {
          "output_type": "execute_result",
          "data": {
            "text/plain": [
              "7452200"
            ]
          },
          "metadata": {
            "tags": []
          },
          "execution_count": 23
        }
      ]
    },
    {
      "cell_type": "code",
      "metadata": {
        "id": "gS3VNebBtPDI",
        "colab": {
          "base_uri": "https://localhost:8080/"
        },
        "outputId": "2dacf0f5-56b3-4060-d3d6-ac1302ce4514"
      },
      "source": [
        "df_under_120.count()"
      ],
      "execution_count": null,
      "outputs": [
        {
          "output_type": "execute_result",
          "data": {
            "text/plain": [
              "1091674"
            ]
          },
          "metadata": {
            "tags": []
          },
          "execution_count": 24
        }
      ]
    },
    {
      "cell_type": "code",
      "metadata": {
        "id": "2BOfxI5stWIc",
        "colab": {
          "base_uri": "https://localhost:8080/"
        },
        "outputId": "c496b05e-718d-45b8-e2ab-4ab63dabdafc"
      },
      "source": [
        "df_120_above.count()"
      ],
      "execution_count": null,
      "outputs": [
        {
          "output_type": "execute_result",
          "data": {
            "text/plain": [
              "653063"
            ]
          },
          "metadata": {
            "tags": []
          },
          "execution_count": 25
        }
      ]
    },
    {
      "cell_type": "code",
      "metadata": {
        "colab": {
          "base_uri": "https://localhost:8080/"
        },
        "id": "RHv23vdLOAsx",
        "outputId": "9b5e3cf0-a567-443c-9e1d-abfe5249e9b1"
      },
      "source": [
        "df_under_30.count()"
      ],
      "execution_count": null,
      "outputs": [
        {
          "output_type": "execute_result",
          "data": {
            "text/plain": [
              "5707463"
            ]
          },
          "metadata": {
            "tags": []
          },
          "execution_count": 26
        }
      ]
    },
    {
      "cell_type": "markdown",
      "metadata": {
        "id": "-yeaAarttpy5"
      },
      "source": [
        "From Above, we have noticed a class imbalance issue with under 30 mins, and  on time entries have a lot more records than others. This could cause issue on our future modeling. Therefore, down sampling approach is in place."
      ]
    },
    {
      "cell_type": "code",
      "metadata": {
        "id": "CIidGRiitgDD"
      },
      "source": [
        "final_df = df_120_above\r\n",
        "final_df = final_df.unionAll(df_under_120)\r\n",
        "sampled_df_under_30 = df_under_30.sample(False, 1/5)\r\n",
        "final_df = final_df.unionAll(sampled_df_under_30)"
      ],
      "execution_count": null,
      "outputs": []
    },
    {
      "cell_type": "code",
      "metadata": {
        "id": "LEyP0iN_tmn-",
        "colab": {
          "base_uri": "https://localhost:8080/"
        },
        "outputId": "3490e32d-88a5-4d46-d9c7-1d5d0c95dd40"
      },
      "source": [
        "final_df.count()"
      ],
      "execution_count": null,
      "outputs": [
        {
          "output_type": "execute_result",
          "data": {
            "text/plain": [
              "2886707"
            ]
          },
          "metadata": {
            "tags": []
          },
          "execution_count": 28
        }
      ]
    },
    {
      "cell_type": "code",
      "metadata": {
        "colab": {
          "base_uri": "https://localhost:8080/"
        },
        "id": "6De09HvpRaKa",
        "outputId": "ddd336aa-1307-421a-f802-b86036ce1326"
      },
      "source": [
        "final_df.filter(final_df.DelayLabel == 'Less than 30 minuates delay or on Time').count()"
      ],
      "execution_count": null,
      "outputs": [
        {
          "output_type": "execute_result",
          "data": {
            "text/plain": [
              "1141970"
            ]
          },
          "metadata": {
            "tags": []
          },
          "execution_count": 167
        }
      ]
    },
    {
      "cell_type": "code",
      "metadata": {
        "colab": {
          "base_uri": "https://localhost:8080/"
        },
        "id": "8aiWiDqFRgl9",
        "outputId": "0e90c607-41cb-4e75-da40-125ad120e7e6"
      },
      "source": [
        "final_df.filter(final_df.DelayLabel == 'Between 30 and 120 minuates delay').count()"
      ],
      "execution_count": null,
      "outputs": [
        {
          "output_type": "execute_result",
          "data": {
            "text/plain": [
              "1091674"
            ]
          },
          "metadata": {
            "tags": []
          },
          "execution_count": 168
        }
      ]
    },
    {
      "cell_type": "code",
      "metadata": {
        "colab": {
          "base_uri": "https://localhost:8080/"
        },
        "id": "dKKmZtfIRg2J",
        "outputId": "bf5aaac9-c3cf-4f16-cf98-c9f0434fd8a8"
      },
      "source": [
        "final_df.filter(final_df.DelayLabel == 'Over 120 minuates delay or cancelled').count()"
      ],
      "execution_count": null,
      "outputs": [
        {
          "output_type": "execute_result",
          "data": {
            "text/plain": [
              "653063"
            ]
          },
          "metadata": {
            "tags": []
          },
          "execution_count": 169
        }
      ]
    },
    {
      "cell_type": "markdown",
      "metadata": {
        "id": "1A3H584VwQAm"
      },
      "source": [
        "# **Model**"
      ]
    },
    {
      "cell_type": "markdown",
      "metadata": {
        "id": "FvRvAkKHPfDE"
      },
      "source": [
        "### **Random Forest**"
      ]
    },
    {
      "cell_type": "code",
      "metadata": {
        "id": "Q2JajtqO07bx"
      },
      "source": [
        "from pyspark.ml.tuning import ParamGridBuilder\r\n",
        "from pyspark.ml.tuning import CrossValidator\r\n"
      ],
      "execution_count": null,
      "outputs": []
    },
    {
      "cell_type": "code",
      "metadata": {
        "id": "RMhojATt1w9B"
      },
      "source": [
        "train,test = final_df.randomSplit([0.8,0.2], seed = 0)"
      ],
      "execution_count": null,
      "outputs": []
    },
    {
      "cell_type": "code",
      "metadata": {
        "id": "ay8g0CZO129w"
      },
      "source": [
        "from pyspark.ml.feature import OneHotEncoder, StringIndexer, IndexToString, VectorAssembler\r\n",
        "from pyspark.ml.classification import RandomForestClassifier, LogisticRegression, GBTClassifier,DecisionTreeClassifier\r\n",
        "from pyspark.ml.evaluation import MulticlassClassificationEvaluator, BinaryClassificationEvaluator\r\n",
        "from pyspark.ml import Pipeline, Model\r\n",
        "from pyspark.ml.regression import LinearRegression\r\n",
        "from pyspark.ml.feature import VectorAssembler"
      ],
      "execution_count": null,
      "outputs": []
    },
    {
      "cell_type": "code",
      "metadata": {
        "id": "SaxnV9COwUS1"
      },
      "source": [
        "indexer_1 = StringIndexer().setInputCol(\"UniqueCarrier\").setOutputCol(\"UniqueCarrier_IND\").setHandleInvalid(\"keep\")\r\n",
        "indexer_2 = StringIndexer().setInputCol(\"TailNum\").setOutputCol(\"TailNum_IND\").setHandleInvalid(\"keep\")\r\n",
        "indexer_3 = StringIndexer().setInputCol(\"Origin\").setOutputCol(\"Origin_IND\").setHandleInvalid(\"keep\")\r\n",
        "indexer_4 = StringIndexer().setInputCol(\"Dest\").setOutputCol(\"Dest_IND\").setHandleInvalid(\"keep\")\r\n",
        "indexer_5 = StringIndexer().setInputCol(\"DelayLabel\").setOutputCol(\"DelayLabel_IND\").setHandleInvalid(\"keep\")"
      ],
      "execution_count": null,
      "outputs": []
    },
    {
      "cell_type": "code",
      "metadata": {
        "id": "DM85CeoExj0e"
      },
      "source": [
        "indexer_1 = indexer_1.fit(train)\r\n",
        "indexer_2 = indexer_2.fit(train)\r\n",
        "indexer_3 = indexer_3.fit(train)\r\n",
        "indexer_4 = indexer_4.fit(train)\r\n",
        "indexer_5 = indexer_5.fit(train)"
      ],
      "execution_count": null,
      "outputs": []
    },
    {
      "cell_type": "code",
      "metadata": {
        "colab": {
          "base_uri": "https://localhost:8080/"
        },
        "id": "RYTNJRg3XJER",
        "outputId": "623af1a7-0329-4d57-e8c5-bde2d51ffee9"
      },
      "source": [
        "final_df.show(10)"
      ],
      "execution_count": null,
      "outputs": [
        {
          "output_type": "stream",
          "text": [
            "+-----+----------+---------+----------+----------+-------------+---------+-------+--------------+------+----+--------+--------------------+\n",
            "|Month|DayofMonth|DayOfWeek|CRSDepTime|CRSArrTime|UniqueCarrier|FlightNum|TailNum|CRSElapsedTime|Origin|Dest|Distance|          DelayLabel|\n",
            "+-----+----------+---------+----------+----------+-------------+---------+-------+--------------+------+----+--------+--------------------+\n",
            "|    1|         1|        1|      2105|      2225|           WN|     2083|   N205|            80|   SMF| SAN|     480|Over 120 minuates...|\n",
            "|    1|         1|        1|      2030|      2135|           WN|     2734|      0|            65|   SNA| LAS|     226|Over 120 minuates...|\n",
            "|    1|         1|        1|      1815|      1920|           WN|     2782|   N781|            65|   SNA| LAS|     226|Over 120 minuates...|\n",
            "|    1|         1|        1|      2040|      2155|           WN|     1243|   N458|            75|   SNA| SJC|     342|Over 120 minuates...|\n",
            "|    1|         1|        1|      1410|      1725|           WN|     2175|   N362|           135|   STL| MCO|     880|Over 120 minuates...|\n",
            "|    1|         1|        1|      1055|      1155|           WN|     2968| N687SW|            60|   STL| MDW|     251|Over 120 minuates...|\n",
            "|    1|         1|        1|      1705|      1755|           WN|      591| N676SW|            50|   TPA| JAX|     180|Over 120 minuates...|\n",
            "|    1|         2|        2|      1905|      2010|           WN|     1660|   N736|           125|   ABQ| LAX|     677|Over 120 minuates...|\n",
            "|    1|         2|        2|      1250|      1425|           WN|      809|   N472|           155|   ABQ| OAK|     889|Over 120 minuates...|\n",
            "|    1|         2|        2|      2025|      2115|           WN|      100|      0|            50|   AUS| DAL|     189|Over 120 minuates...|\n",
            "+-----+----------+---------+----------+----------+-------------+---------+-------+--------------+------+----+--------+--------------------+\n",
            "only showing top 10 rows\n",
            "\n"
          ],
          "name": "stdout"
        }
      ]
    },
    {
      "cell_type": "code",
      "metadata": {
        "id": "_haAdUrNwvI2"
      },
      "source": [
        "va = VectorAssembler(\r\n",
        "    inputCols=[\"Month\", \"DayofMonth\", \"DayOfWeek\", \"CRSDepTime\", \"CRSArrTime\" , \"UniqueCarrier_IND\", \"FlightNum\", \"TailNum_IND\", \"CRSElapsedTime\", \"Origin_IND\", \"Dest_IND\", \"Distance\"],\r\n",
        "    outputCol=\"features\")"
      ],
      "execution_count": null,
      "outputs": []
    },
    {
      "cell_type": "code",
      "metadata": {
        "id": "RLekbkQ4xPt_"
      },
      "source": [
        "rf = RandomForestClassifier(labelCol=\"DelayLabel_IND\", featuresCol=\"features\", maxBins=6000)"
      ],
      "execution_count": null,
      "outputs": []
    },
    {
      "cell_type": "code",
      "metadata": {
        "id": "JPJcPNFhxTbu"
      },
      "source": [
        "labelConverter = IndexToString(inputCol=\"prediction\", outputCol=\"predictedLabel\",\r\n",
        "                               labels=indexer_5.labels)"
      ],
      "execution_count": null,
      "outputs": []
    },
    {
      "cell_type": "code",
      "metadata": {
        "id": "SWRFW0EyxYQg"
      },
      "source": [
        "pipeline_rf = Pipeline(stages=[indexer_1, indexer_2, indexer_3, indexer_4,indexer_5, va, rf, labelConverter])\r\n"
      ],
      "execution_count": null,
      "outputs": []
    },
    {
      "cell_type": "code",
      "metadata": {
        "id": "HDGmBljexbaT"
      },
      "source": [
        "model_rf = pipeline_rf.fit(train)"
      ],
      "execution_count": null,
      "outputs": []
    },
    {
      "cell_type": "code",
      "metadata": {
        "id": "0HISFgiMAeeW"
      },
      "source": [
        "predictions_rf = model_rf.transform(test)"
      ],
      "execution_count": null,
      "outputs": []
    },
    {
      "cell_type": "code",
      "metadata": {
        "colab": {
          "base_uri": "https://localhost:8080/"
        },
        "id": "oxCmJ8nBCOum",
        "outputId": "e85e31a8-e894-4ad7-c678-a869c3092161"
      },
      "source": [
        "predictions_rf.select('DelayLabel', 'PredictedLabel', 'prediction', 'rawPrediction', 'features').show(5)"
      ],
      "execution_count": null,
      "outputs": [
        {
          "output_type": "stream",
          "text": [
            "+--------------------+--------------------+----------+--------------------+--------------------+\n",
            "|          DelayLabel|      PredictedLabel|prediction|       rawPrediction|            features|\n",
            "+--------------------+--------------------+----------+--------------------+--------------------+\n",
            "|Over 120 minuates...|Less than 30 minu...|       0.0|[11.1094485935947...|[1.0,1.0,1.0,600....|\n",
            "|Over 120 minuates...|Over 120 minuates...|       2.0|[1.86535433093743...|[1.0,1.0,1.0,600....|\n",
            "|Over 120 minuates...|Over 120 minuates...|       2.0|[1.13553893494800...|[1.0,1.0,1.0,605....|\n",
            "|Over 120 minuates...|Over 120 minuates...|       2.0|[2.33315486880992...|[1.0,1.0,1.0,605....|\n",
            "|Over 120 minuates...|Over 120 minuates...|       2.0|[1.37211221560833...|[1.0,1.0,1.0,605....|\n",
            "+--------------------+--------------------+----------+--------------------+--------------------+\n",
            "only showing top 5 rows\n",
            "\n"
          ],
          "name": "stdout"
        }
      ]
    },
    {
      "cell_type": "code",
      "metadata": {
        "colab": {
          "base_uri": "https://localhost:8080/"
        },
        "id": "NJWzaFZ4Ce3-",
        "outputId": "e0db5cc6-8835-4792-91f6-d073ace0b584"
      },
      "source": [
        "evaluator_rf = MulticlassClassificationEvaluator(\r\n",
        "    labelCol=\"DelayLabel_IND\", predictionCol=\"prediction\", metricName=\"accuracy\")\r\n",
        "accuracy_rf = evaluator_rf.evaluate(predictions_rf)\r\n",
        "print(\"Accuracy = %g\" % (accuracy_rf))"
      ],
      "execution_count": null,
      "outputs": [
        {
          "output_type": "stream",
          "text": [
            "Accuracy = 0.503414\n"
          ],
          "name": "stdout"
        }
      ]
    },
    {
      "cell_type": "markdown",
      "metadata": {
        "id": "3X5OiySZDse4"
      },
      "source": [
        "Model tuning "
      ]
    },
    {
      "cell_type": "code",
      "metadata": {
        "id": "OUyxnNmt14vm"
      },
      "source": [
        "#import numpy as np\r\n",
        "#paramGrid = ParamGridBuilder() \\\r\n",
        "    #.addGrid(rf.numTrees, [int(x) for x in np.linspace(start = 10, stop = 50, num = 3)]) \\\r\n",
        "    #.addGrid(rf.maxDepth, [int(x) for x in np.linspace(start = 5, stop = 25, num = 3)]) \\\r\n",
        "    #.build()"
      ],
      "execution_count": null,
      "outputs": []
    },
    {
      "cell_type": "code",
      "metadata": {
        "id": "cAGRAZXa16RA"
      },
      "source": [
        "#crossval = CrossValidator(estimator=pipeline_rf,\r\n",
        "                         # estimatorParamMaps=paramGrid,\r\n",
        "                          #evaluator=evaluator_rf,\r\n",
        "                         # numFolds=2)"
      ],
      "execution_count": null,
      "outputs": []
    },
    {
      "cell_type": "code",
      "metadata": {
        "id": "0ME7oJXl19d9"
      },
      "source": [
        "#cvModel = crossval.fit(train)"
      ],
      "execution_count": null,
      "outputs": []
    },
    {
      "cell_type": "code",
      "metadata": {
        "id": "1akW_khJ2DD5"
      },
      "source": [
        "#predictions = cvModel.transform(testData)"
      ],
      "execution_count": null,
      "outputs": []
    },
    {
      "cell_type": "markdown",
      "metadata": {
        "id": "U_m48_pSdN5s"
      },
      "source": [
        "### **Multinomial Logistic Regression**"
      ]
    },
    {
      "cell_type": "code",
      "metadata": {
        "id": "aQ3Yyh1F2Uf7"
      },
      "source": [
        "lr = LogisticRegression(labelCol=\"DelayLabel_IND\", featuresCol=\"features\", maxIter=10, regParam=0.3, elasticNetParam=0.8)"
      ],
      "execution_count": null,
      "outputs": []
    },
    {
      "cell_type": "code",
      "metadata": {
        "id": "6QUcE-243mjl"
      },
      "source": [
        "pipeline_lr = Pipeline(stages=[indexer_1, indexer_2, indexer_3, indexer_4,indexer_5, va, lr])"
      ],
      "execution_count": null,
      "outputs": []
    },
    {
      "cell_type": "code",
      "metadata": {
        "id": "kM879OEP3sEb"
      },
      "source": [
        "model_lr = pipeline_lr.fit(train)"
      ],
      "execution_count": null,
      "outputs": []
    },
    {
      "cell_type": "code",
      "metadata": {
        "id": "HZLGD--SIWvN"
      },
      "source": [
        "predictions_lr = model_lr.transform(test)"
      ],
      "execution_count": null,
      "outputs": []
    },
    {
      "cell_type": "code",
      "metadata": {
        "colab": {
          "base_uri": "https://localhost:8080/"
        },
        "id": "36ElRcraIQQb",
        "outputId": "0a81de8b-31ad-4bff-c434-194a011fe49d"
      },
      "source": [
        "evaluator_lr = MulticlassClassificationEvaluator(\r\n",
        "    labelCol=\"DelayLabel_IND\", predictionCol=\"prediction\", metricName=\"accuracy\")\r\n",
        "accuracy_lr = evaluator_lr.evaluate(predictions_lr)\r\n",
        "print(\"Accuracy = %g\" % (accuracy_lr))"
      ],
      "execution_count": null,
      "outputs": [
        {
          "output_type": "stream",
          "text": [
            "Accuracy = 0.396136\n"
          ],
          "name": "stdout"
        }
      ]
    },
    {
      "cell_type": "markdown",
      "metadata": {
        "id": "KVUWtL4AdYck"
      },
      "source": [
        "### **Naive Bayes**"
      ]
    },
    {
      "cell_type": "code",
      "metadata": {
        "id": "mQT-N1MhhWq0"
      },
      "source": [
        "from pyspark.ml.classification import NaiveBayes\r\n",
        "from pyspark.ml.feature import StandardScaler, MinMaxScaler"
      ],
      "execution_count": null,
      "outputs": []
    },
    {
      "cell_type": "code",
      "metadata": {
        "id": "QSgQLFJVj8FX"
      },
      "source": [
        "scaler = MinMaxScaler(inputCol=\"features\", outputCol=\"scaledFeatures\")"
      ],
      "execution_count": null,
      "outputs": []
    },
    {
      "cell_type": "code",
      "metadata": {
        "id": "pj4g8PFTfaaM"
      },
      "source": [
        "nb = NaiveBayes(labelCol=\"DelayLabel_IND\", featuresCol=\"scaledFeatures\",smoothing=1.0, modelType=\"multinomial\")\r\n"
      ],
      "execution_count": null,
      "outputs": []
    },
    {
      "cell_type": "code",
      "metadata": {
        "id": "-XxILRrpfeB0"
      },
      "source": [
        "pipeline_nb = Pipeline(stages=[indexer_1, indexer_2, indexer_3, indexer_4,indexer_5, va, scaler, nb])"
      ],
      "execution_count": null,
      "outputs": []
    },
    {
      "cell_type": "code",
      "metadata": {
        "id": "ENPnXv6Zfha6"
      },
      "source": [
        "model_nb = pipeline_nb.fit(train)"
      ],
      "execution_count": null,
      "outputs": []
    },
    {
      "cell_type": "code",
      "metadata": {
        "id": "HiJ_sXYlfmb1"
      },
      "source": [
        "predictions_nb = model_nb.transform(test)"
      ],
      "execution_count": null,
      "outputs": []
    },
    {
      "cell_type": "code",
      "metadata": {
        "colab": {
          "base_uri": "https://localhost:8080/"
        },
        "id": "CHzLHKxPfpmM",
        "outputId": "0421342f-3a48-49ee-806a-26ec941d6fac"
      },
      "source": [
        "evaluator_nb = MulticlassClassificationEvaluator(\r\n",
        "    labelCol=\"DelayLabel_IND\", predictionCol=\"prediction\", metricName=\"accuracy\")\r\n",
        "accuracy_nb = evaluator_nb.evaluate(predictions_nb)\r\n",
        "print(\"Accuracy = %g\" % (accuracy_nb))"
      ],
      "execution_count": null,
      "outputs": [
        {
          "output_type": "stream",
          "text": [
            "Accuracy = 0.434463\n"
          ],
          "name": "stdout"
        }
      ]
    },
    {
      "cell_type": "markdown",
      "metadata": {
        "id": "U9ExRQSysF4s"
      },
      "source": [
        "### **Decision Tree**"
      ]
    },
    {
      "cell_type": "code",
      "metadata": {
        "id": "iNekOA5OsIyP"
      },
      "source": [
        "dt = DecisionTreeClassifier(labelCol=\"DelayLabel_IND\", featuresCol=\"features\", maxBins=6000)"
      ],
      "execution_count": null,
      "outputs": []
    },
    {
      "cell_type": "code",
      "metadata": {
        "id": "M-HggyoBsOgK"
      },
      "source": [
        "pipeline_dt = Pipeline(stages=[indexer_1, indexer_2, indexer_3, indexer_4,indexer_5, va, dt])"
      ],
      "execution_count": null,
      "outputs": []
    },
    {
      "cell_type": "code",
      "metadata": {
        "id": "1GEoqBRGsSEG"
      },
      "source": [
        "model_dt = pipeline_dt.fit(train)"
      ],
      "execution_count": null,
      "outputs": []
    },
    {
      "cell_type": "code",
      "metadata": {
        "id": "4lAJ_iZJsVXK"
      },
      "source": [
        "predictions_dt = model_dt.transform(test)"
      ],
      "execution_count": null,
      "outputs": []
    },
    {
      "cell_type": "code",
      "metadata": {
        "colab": {
          "base_uri": "https://localhost:8080/"
        },
        "id": "dWX9VnhcsYQ4",
        "outputId": "f8228ebc-1559-49a3-e16b-1ac3862a7343"
      },
      "source": [
        "evaluator_dt = MulticlassClassificationEvaluator(\r\n",
        "    labelCol=\"DelayLabel_IND\", predictionCol=\"prediction\", metricName=\"accuracy\")\r\n",
        "accuracy_dt = evaluator_nb.evaluate(predictions_dt)\r\n",
        "print(\"Accuracy = %g\" % (accuracy_dt))"
      ],
      "execution_count": null,
      "outputs": [
        {
          "output_type": "stream",
          "text": [
            "Accuracy = 0.500523\n"
          ],
          "name": "stdout"
        }
      ]
    },
    {
      "cell_type": "markdown",
      "metadata": {
        "id": "3DpZfaUoFph-"
      },
      "source": [
        "# **Binary Case**"
      ]
    },
    {
      "cell_type": "code",
      "metadata": {
        "id": "bHR-_wQSFsk3"
      },
      "source": [
        "def generate_binary_label(depdelay, arrdelay):\r\n",
        "  if depdelay is not None and depdelay > 0:\r\n",
        "    return 1\r\n",
        "\r\n",
        "  elif arrdelay is not None and arrdelay > 0:\r\n",
        "    return 0\r\n",
        "  else:\r\n",
        "    return 1\r\n"
      ],
      "execution_count": null,
      "outputs": []
    },
    {
      "cell_type": "code",
      "metadata": {
        "id": "ReaERp2WGFoL"
      },
      "source": [
        "\r\n",
        "bin_udfgenerate = F.udf(generate_binary_label, IntegerType())\r\n",
        "df_no_cancel = df.filter(df.ArrDelay. isNotNull())\r\n",
        "df_no_cancel = df_no_cancel.filter(df_no_cancel.DepDelay. isNotNull())\r\n",
        "df_with_label_bin = df_no_cancel.withColumn(\"DelayLabel_BIN\", bin_udfgenerate(\"DepDelay\", \"ArrDelay\"))\r\n"
      ],
      "execution_count": null,
      "outputs": []
    },
    {
      "cell_type": "code",
      "metadata": {
        "colab": {
          "base_uri": "https://localhost:8080/"
        },
        "id": "GI8F2Oy7GwsY",
        "outputId": "80cc840f-3976-4654-ac8b-3323e7ae4ccf"
      },
      "source": [
        "df_with_label_bin.show(10)"
      ],
      "execution_count": null,
      "outputs": [
        {
          "output_type": "stream",
          "text": [
            "+-----+----------+---------+----------+----------+-------------+---------+-------+--------------+-------+--------+--------+------+----+--------+---------+--------------+\n",
            "|Month|DayofMonth|DayOfWeek|CRSDepTime|CRSArrTime|UniqueCarrier|FlightNum|TailNum|CRSElapsedTime|AirTime|ArrDelay|DepDelay|Origin|Dest|Distance|Cancelled|DelayLabel_BIN|\n",
            "+-----+----------+---------+----------+----------+-------------+---------+-------+--------------+-------+--------+--------+------+----+--------+---------+--------------+\n",
            "|    1|         1|        1|      1225|      1340|           WN|     2891|   N351|            75|     54|       1|       7|   SMF| ONT|     389|        0|             1|\n",
            "|    1|         1|        1|      1905|      2035|           WN|      462|   N370|            90|     74|       8|      13|   SMF| PDX|     479|        0|             1|\n",
            "|    1|         1|        1|      2130|      2300|           WN|     1229|   N685|            90|     73|      34|      36|   SMF| PDX|     479|        0|             1|\n",
            "|    1|         1|        1|      1200|      1330|           WN|     1355|   N364|            90|     75|      26|      30|   SMF| PDX|     479|        0|             1|\n",
            "|    1|         1|        1|       830|      1000|           WN|     2278|   N480|            90|     74|      -3|       1|   SMF| PDX|     479|        0|             1|\n",
            "|    1|         1|        1|      1420|      1550|           WN|     2386| N611SW|            90|     74|       3|      10|   SMF| PDX|     479|        0|             1|\n",
            "|    1|         1|        1|      1840|      2130|           WN|      409|   N482|           110|     89|      47|      56|   SMF| PHX|     647|        0|             1|\n",
            "|    1|         1|        1|       935|      1225|           WN|     1131| N749SW|           110|     86|      -2|       9|   SMF| PHX|     647|        0|             1|\n",
            "|    1|         1|        1|      1450|      1735|           WN|     1212|   N451|           105|     90|      44|      47|   SMF| PHX|     647|        0|             1|\n",
            "|    1|         1|        1|      1315|      1610|           WN|     2456| N630WN|           115|     92|      -7|       3|   SMF| PHX|     647|        0|             1|\n",
            "+-----+----------+---------+----------+----------+-------------+---------+-------+--------------+-------+--------+--------+------+----+--------+---------+--------------+\n",
            "only showing top 10 rows\n",
            "\n"
          ],
          "name": "stdout"
        }
      ]
    },
    {
      "cell_type": "code",
      "metadata": {
        "id": "w7W1Sm1qOEyF"
      },
      "source": [
        "df_delayed = df_with_label_bin.filter(df_with_label_bin.DelayLabel_BIN == 1)\r\n",
        "df_ontime = df_with_label_bin.filter(df_with_label_bin.DelayLabel_BIN == 0)"
      ],
      "execution_count": null,
      "outputs": []
    },
    {
      "cell_type": "code",
      "metadata": {
        "colab": {
          "base_uri": "https://localhost:8080/"
        },
        "id": "X9PiCBFrOO3a",
        "outputId": "427d2098-7461-4c79-b5c1-8207b4e3aee0"
      },
      "source": [
        "df_delayed.count()"
      ],
      "execution_count": null,
      "outputs": [
        {
          "output_type": "execute_result",
          "data": {
            "text/plain": [
              "6259545"
            ]
          },
          "metadata": {
            "tags": []
          },
          "execution_count": 83
        }
      ]
    },
    {
      "cell_type": "code",
      "metadata": {
        "colab": {
          "base_uri": "https://localhost:8080/"
        },
        "id": "53IvwbDnORE0",
        "outputId": "f22b4286-cb55-406b-ab03-2357671e379f"
      },
      "source": [
        "df_ontime.count()"
      ],
      "execution_count": null,
      "outputs": [
        {
          "output_type": "execute_result",
          "data": {
            "text/plain": [
              "1015743"
            ]
          },
          "metadata": {
            "tags": []
          },
          "execution_count": 84
        }
      ]
    },
    {
      "cell_type": "code",
      "metadata": {
        "id": "CEKklnneOjAe"
      },
      "source": [
        "final_df_bin = df_ontime\r\n",
        "sampled_df_delayed = df_delayed.sample(False, 1/6)\r\n",
        "final_df_bin = final_df_bin.unionAll(sampled_df_delayed)"
      ],
      "execution_count": null,
      "outputs": []
    },
    {
      "cell_type": "code",
      "metadata": {
        "colab": {
          "base_uri": "https://localhost:8080/"
        },
        "id": "oeYTB52BOrJ9",
        "outputId": "70922236-a89f-4c2a-c2b1-aa327c176575"
      },
      "source": [
        "final_df_bin.count()"
      ],
      "execution_count": null,
      "outputs": [
        {
          "output_type": "execute_result",
          "data": {
            "text/plain": [
              "2059079"
            ]
          },
          "metadata": {
            "tags": []
          },
          "execution_count": 86
        }
      ]
    },
    {
      "cell_type": "code",
      "metadata": {
        "colab": {
          "base_uri": "https://localhost:8080/"
        },
        "id": "2cAke9IeO6GG",
        "outputId": "ac07e2b0-bf31-4e21-8b55-7597ce4bf3c0"
      },
      "source": [
        "final_df_bin.show(2)"
      ],
      "execution_count": null,
      "outputs": [
        {
          "output_type": "stream",
          "text": [
            "+-----+----------+---------+----------+----------+-------------+---------+-------+--------------+-------+--------+--------+------+----+--------+---------+--------------+\n",
            "|Month|DayofMonth|DayOfWeek|CRSDepTime|CRSArrTime|UniqueCarrier|FlightNum|TailNum|CRSElapsedTime|AirTime|ArrDelay|DepDelay|Origin|Dest|Distance|Cancelled|DelayLabel_BIN|\n",
            "+-----+----------+---------+----------+----------+-------------+---------+-------+--------------+-------+--------+--------+------+----+--------+---------+--------------+\n",
            "|    1|         1|        1|      1245|      1450|           WN|     1684|   N493|            65|     56|       7|       0|   SNA| PHX|     338|        0|             0|\n",
            "|    1|         1|        1|      1440|      1605|           WN|      728| N707SA|            85|     70|       2|      -1|   SNA| SMF|     404|        0|             0|\n",
            "+-----+----------+---------+----------+----------+-------------+---------+-------+--------------+-------+--------+--------+------+----+--------+---------+--------------+\n",
            "only showing top 2 rows\n",
            "\n"
          ],
          "name": "stdout"
        }
      ]
    },
    {
      "cell_type": "code",
      "metadata": {
        "id": "WIxNnG5SOyXf"
      },
      "source": [
        "train,test = final_df_bin.randomSplit([0.8,0.2], seed = 0)"
      ],
      "execution_count": null,
      "outputs": []
    },
    {
      "cell_type": "code",
      "metadata": {
        "id": "4Tt8ZyD4O4Jw"
      },
      "source": [
        "indexer_1 = StringIndexer().setInputCol(\"UniqueCarrier\").setOutputCol(\"UniqueCarrier_IND\").setHandleInvalid(\"keep\")\r\n",
        "indexer_2 = StringIndexer().setInputCol(\"TailNum\").setOutputCol(\"TailNum_IND\").setHandleInvalid(\"keep\")\r\n",
        "indexer_3 = StringIndexer().setInputCol(\"Origin\").setOutputCol(\"Origin_IND\").setHandleInvalid(\"keep\")\r\n",
        "indexer_4 = StringIndexer().setInputCol(\"Dest\").setOutputCol(\"Dest_IND\").setHandleInvalid(\"keep\")"
      ],
      "execution_count": null,
      "outputs": []
    },
    {
      "cell_type": "markdown",
      "metadata": {
        "id": "ec1o8dsY7s94"
      },
      "source": [
        "Random Forest"
      ]
    },
    {
      "cell_type": "code",
      "metadata": {
        "id": "XV1Igy86PIl1"
      },
      "source": [
        "va = VectorAssembler(\r\n",
        "    inputCols=[\"Month\", \"DayofMonth\", \"DayOfWeek\", \"CRSDepTime\", \"CRSArrTime\" , \"UniqueCarrier_IND\", \"FlightNum\", \"TailNum_IND\", \"CRSElapsedTime\", \"Origin_IND\", \"Dest_IND\", \"Distance\"],\r\n",
        "    outputCol=\"features\")"
      ],
      "execution_count": null,
      "outputs": []
    },
    {
      "cell_type": "code",
      "metadata": {
        "id": "7R16p958PPIH"
      },
      "source": [
        "rf_bin = RandomForestClassifier(labelCol=\"DelayLabel_BIN\", featuresCol=\"features\", maxBins=6000)"
      ],
      "execution_count": null,
      "outputs": []
    },
    {
      "cell_type": "code",
      "metadata": {
        "id": "x9gMgvrNPazV"
      },
      "source": [
        "pipeline_rf_bin = Pipeline(stages=[indexer_1, indexer_2, indexer_3, indexer_4, va, rf_bin])\r\n"
      ],
      "execution_count": null,
      "outputs": []
    },
    {
      "cell_type": "code",
      "metadata": {
        "id": "wJwNjIQJPhU0"
      },
      "source": [
        "model_rf_bin = pipeline_rf_bin.fit(train)"
      ],
      "execution_count": null,
      "outputs": []
    },
    {
      "cell_type": "code",
      "metadata": {
        "id": "wC1yfhrlU8eu"
      },
      "source": [
        "predictions_rf_bin = model_rf_bin.transform(test)"
      ],
      "execution_count": null,
      "outputs": []
    },
    {
      "cell_type": "code",
      "metadata": {
        "colab": {
          "base_uri": "https://localhost:8080/"
        },
        "id": "feEDH3DKVAgW",
        "outputId": "15e84523-b29d-411d-f1e2-1f4b210b55ad"
      },
      "source": [
        "evaluator_rf_bin = MulticlassClassificationEvaluator(\r\n",
        "    labelCol=\"DelayLabel_BIN\", predictionCol=\"prediction\", metricName=\"accuracy\")\r\n",
        "accuracy_rf_bin = evaluator_rf_bin.evaluate(predictions_rf_bin)\r\n",
        "print(\"Accuracy = %g\" % (accuracy_rf_bin))"
      ],
      "execution_count": null,
      "outputs": [
        {
          "output_type": "stream",
          "text": [
            "Accuracy = 0.586159\n"
          ],
          "name": "stdout"
        }
      ]
    },
    {
      "cell_type": "markdown",
      "metadata": {
        "id": "aYiCmYew70Xu"
      },
      "source": [
        "Logistic Regression"
      ]
    },
    {
      "cell_type": "code",
      "metadata": {
        "id": "CtnHj2NJ75tJ"
      },
      "source": [
        "lr_bin = LogisticRegression(labelCol=\"DelayLabel_BIN\", featuresCol=\"features\", maxIter=10, regParam=0.3, elasticNetParam=0.8)"
      ],
      "execution_count": null,
      "outputs": []
    },
    {
      "cell_type": "code",
      "metadata": {
        "id": "1hM4hfLb8D0a"
      },
      "source": [
        "pipeline_lr_bin = Pipeline(stages=[indexer_1, indexer_2, indexer_3, indexer_4, va, lr_bin])"
      ],
      "execution_count": null,
      "outputs": []
    },
    {
      "cell_type": "code",
      "metadata": {
        "id": "plNZQHMY8Kxv"
      },
      "source": [
        "model_lr_bin = pipeline_lr_bin.fit(train)"
      ],
      "execution_count": null,
      "outputs": []
    },
    {
      "cell_type": "code",
      "metadata": {
        "id": "3_zn8_tF8P10"
      },
      "source": [
        "predictions_lr_bin = model_lr_bin.transform(test)"
      ],
      "execution_count": null,
      "outputs": []
    },
    {
      "cell_type": "code",
      "metadata": {
        "colab": {
          "base_uri": "https://localhost:8080/"
        },
        "id": "XEQcLu6c8XG9",
        "outputId": "59f27da4-e8d6-42d1-ca0e-5916f3863897"
      },
      "source": [
        "evaluator_lr_bin = MulticlassClassificationEvaluator(\r\n",
        "    labelCol=\"DelayLabel_BIN\", predictionCol=\"prediction\", metricName=\"accuracy\")\r\n",
        "accuracy_lr_bin = evaluator_lr_bin.evaluate(predictions_lr_bin)\r\n",
        "print(\"Accuracy = %g\" % (accuracy_lr_bin))"
      ],
      "execution_count": null,
      "outputs": [
        {
          "output_type": "stream",
          "text": [
            "Accuracy = 0.506676\n"
          ],
          "name": "stdout"
        }
      ]
    },
    {
      "cell_type": "markdown",
      "metadata": {
        "id": "bMbB5KGJ9BKf"
      },
      "source": [
        "Naive Bayes"
      ]
    },
    {
      "cell_type": "code",
      "metadata": {
        "id": "p2OYZA9Q9ED-"
      },
      "source": [
        "scaler = MinMaxScaler(inputCol=\"features\", outputCol=\"scaledFeatures\")"
      ],
      "execution_count": null,
      "outputs": []
    },
    {
      "cell_type": "code",
      "metadata": {
        "id": "gVQ7sGRV9HvA"
      },
      "source": [
        "nb_bin= NaiveBayes(labelCol=\"DelayLabel_BIN\", featuresCol=\"scaledFeatures\",smoothing=1.0, modelType=\"multinomial\")\r\n"
      ],
      "execution_count": null,
      "outputs": []
    },
    {
      "cell_type": "code",
      "metadata": {
        "id": "EE6hKNsB9Oj-"
      },
      "source": [
        "pipeline_nb_bin = Pipeline(stages=[indexer_1, indexer_2, indexer_3, indexer_4, va, scaler, nb_bin])"
      ],
      "execution_count": null,
      "outputs": []
    },
    {
      "cell_type": "code",
      "metadata": {
        "id": "UIihcqkl99OU"
      },
      "source": [
        "model_nb_bin = pipeline_nb_bin.fit(train)"
      ],
      "execution_count": null,
      "outputs": []
    },
    {
      "cell_type": "code",
      "metadata": {
        "id": "v0S9nwVQ99pV"
      },
      "source": [
        "predictions_nb_bin = model_nb_bin.transform(test)"
      ],
      "execution_count": null,
      "outputs": []
    },
    {
      "cell_type": "code",
      "metadata": {
        "colab": {
          "base_uri": "https://localhost:8080/"
        },
        "id": "qZ_a1BC8-A02",
        "outputId": "321aa051-4251-441e-e564-2b2d6c88d33f"
      },
      "source": [
        "evaluator_nb_bin = MulticlassClassificationEvaluator(\r\n",
        "    labelCol=\"DelayLabel_BIN\", predictionCol=\"prediction\", metricName=\"accuracy\")\r\n",
        "accuracy_nb_bin = evaluator_nb_bin.evaluate(predictions_nb_bin)\r\n",
        "print(\"Accuracy = %g\" % (accuracy_nb_bin))"
      ],
      "execution_count": null,
      "outputs": [
        {
          "output_type": "stream",
          "text": [
            "Accuracy = 0.533203\n"
          ],
          "name": "stdout"
        }
      ]
    },
    {
      "cell_type": "markdown",
      "metadata": {
        "id": "0x4qlrCJ-Q6N"
      },
      "source": [
        "Decision Tree"
      ]
    },
    {
      "cell_type": "code",
      "metadata": {
        "id": "YubSBpqA-V50"
      },
      "source": [
        "dt_bin = DecisionTreeClassifier(labelCol=\"DelayLabel_BIN\", featuresCol=\"features\", maxBins=6000)"
      ],
      "execution_count": null,
      "outputs": []
    },
    {
      "cell_type": "code",
      "metadata": {
        "id": "a2pq7AD0Azno"
      },
      "source": [
        "pipeline_dt_bin = Pipeline(stages=[indexer_1, indexer_2, indexer_3, indexer_4, va, dt_bin])"
      ],
      "execution_count": null,
      "outputs": []
    },
    {
      "cell_type": "code",
      "metadata": {
        "id": "SJ0anToFLwh3"
      },
      "source": [
        "model_dt_bin = pipeline_dt_bin.fit(train)"
      ],
      "execution_count": null,
      "outputs": []
    },
    {
      "cell_type": "code",
      "metadata": {
        "id": "jFUxvpzUBRsx"
      },
      "source": [
        "predictions_dt_bin = model_dt_bin.transform(test)"
      ],
      "execution_count": null,
      "outputs": []
    },
    {
      "cell_type": "code",
      "metadata": {
        "colab": {
          "base_uri": "https://localhost:8080/"
        },
        "id": "XnvDGr89BXmn",
        "outputId": "1bf1a142-ea75-4f25-8727-0ec937e2afd3"
      },
      "source": [
        "evaluator_dt_bin = MulticlassClassificationEvaluator(\r\n",
        "    labelCol=\"DelayLabel_BIN\", predictionCol=\"prediction\", metricName=\"accuracy\")\r\n",
        "accuracy_dt_bin = evaluator_dt_bin.evaluate(predictions_dt_bin)\r\n",
        "print(\"Accuracy = %g\" % (accuracy_dt_bin))"
      ],
      "execution_count": null,
      "outputs": [
        {
          "output_type": "stream",
          "text": [
            "Accuracy = 0.580117\n"
          ],
          "name": "stdout"
        }
      ]
    },
    {
      "cell_type": "markdown",
      "metadata": {
        "id": "k1yW_V40XuQT"
      },
      "source": [
        "GBT Tree"
      ]
    },
    {
      "cell_type": "code",
      "metadata": {
        "id": "TIcK8RdmXxNq"
      },
      "source": [
        "gbt = GBTClassifier(labelCol=\"DelayLabel_BIN\", featuresCol=\"features\", maxIter=30, maxBins=6000)"
      ],
      "execution_count": null,
      "outputs": []
    },
    {
      "cell_type": "code",
      "metadata": {
        "id": "yi-Wqh8VX3rH"
      },
      "source": [
        "pipeline_gbt = Pipeline(stages=[indexer_1, indexer_2, indexer_3, indexer_4, va, gbt])\r\n"
      ],
      "execution_count": null,
      "outputs": []
    },
    {
      "cell_type": "code",
      "metadata": {
        "id": "xAFF1uCkX8La"
      },
      "source": [
        "model_gbt = pipeline_gbt.fit(train)"
      ],
      "execution_count": null,
      "outputs": []
    },
    {
      "cell_type": "code",
      "metadata": {
        "id": "-Pf_PuIoYApu"
      },
      "source": [
        "predictions_gbt = model_gbt.transform(test)"
      ],
      "execution_count": null,
      "outputs": []
    },
    {
      "cell_type": "code",
      "metadata": {
        "colab": {
          "base_uri": "https://localhost:8080/"
        },
        "id": "2dhK-nbjYISy",
        "outputId": "02f2062c-9503-4f10-96d1-2875d049ff91"
      },
      "source": [
        "evaluator_gbt = MulticlassClassificationEvaluator(\r\n",
        "    labelCol=\"DelayLabel_BIN\", predictionCol=\"prediction\", metricName=\"accuracy\")\r\n",
        "accuracy_gbt= evaluator_rf.evaluate(predictions_gbt)\r\n",
        "print(\"Accuracy = %g\" % (accuracy_gbt))"
      ],
      "execution_count": null,
      "outputs": [
        {
          "output_type": "stream",
          "text": [
            "Accuracy = 0.602314\n"
          ],
          "name": "stdout"
        }
      ]
    },
    {
      "cell_type": "markdown",
      "metadata": {
        "id": "dny-lZQnn_87"
      },
      "source": [
        "with feature selection "
      ]
    },
    {
      "cell_type": "code",
      "metadata": {
        "id": "_qJIXmO7obWb"
      },
      "source": [
        "from pyspark.ml.feature import ChiSqSelector"
      ],
      "execution_count": null,
      "outputs": []
    },
    {
      "cell_type": "code",
      "metadata": {
        "id": "ipTtXEDDoCfS"
      },
      "source": [
        "selector = ChiSqSelector(numTopFeatures=8, featuresCol=\"features\",\r\n",
        "                         outputCol=\"selectedFeatures\", labelCol=\"DelayLabel_BIN\")"
      ],
      "execution_count": null,
      "outputs": []
    },
    {
      "cell_type": "code",
      "metadata": {
        "id": "3a70dsf6oJMj"
      },
      "source": [
        "gbt_select = GBTClassifier(labelCol=\"DelayLabel_BIN\", featuresCol=\"selectedFeatures\", maxIter=30, maxBins=6000)"
      ],
      "execution_count": null,
      "outputs": []
    },
    {
      "cell_type": "code",
      "metadata": {
        "id": "sPZpKjPYoeON"
      },
      "source": [
        "pipeline_gbt_select = Pipeline(stages=[indexer_1, indexer_2, indexer_3, indexer_4, va, selector, gbt_select])\r\n"
      ],
      "execution_count": null,
      "outputs": []
    },
    {
      "cell_type": "code",
      "metadata": {
        "id": "FQrTFS_9ol81"
      },
      "source": [
        "model_gbt_select = pipeline_gbt_select.fit(train)"
      ],
      "execution_count": null,
      "outputs": []
    },
    {
      "cell_type": "code",
      "metadata": {
        "id": "Wp5h2bOuokHZ"
      },
      "source": [
        "predictions_gbt_select = model_gbt_select.transform(test)"
      ],
      "execution_count": null,
      "outputs": []
    },
    {
      "cell_type": "code",
      "metadata": {
        "colab": {
          "base_uri": "https://localhost:8080/"
        },
        "id": "2LA6ZKmh_u-i",
        "outputId": "57f217ba-326a-49ac-b28c-cd50a187956e"
      },
      "source": [
        "predictions_gbt_select.show(10)"
      ],
      "execution_count": null,
      "outputs": [
        {
          "output_type": "stream",
          "text": [
            "+-----+----------+---------+----------+----------+-------------+---------+-------+--------------+-------+--------+--------+------+----+--------+---------+--------------+-----------------+-----------+----------+--------+--------------------+--------------------+--------------------+--------------------+----------+\n",
            "|Month|DayofMonth|DayOfWeek|CRSDepTime|CRSArrTime|UniqueCarrier|FlightNum|TailNum|CRSElapsedTime|AirTime|ArrDelay|DepDelay|Origin|Dest|Distance|Cancelled|DelayLabel_BIN|UniqueCarrier_IND|TailNum_IND|Origin_IND|Dest_IND|            features|    selectedFeatures|       rawPrediction|         probability|prediction|\n",
            "+-----+----------+---------+----------+----------+-------------+---------+-------+--------------+-------+--------+--------+------+----+--------+---------+--------------+-----------------+-----------+----------+--------+--------------------+--------------------+--------------------+--------------------+----------+\n",
            "|    1|         1|        1|       600|       654|           YV|     2646| N929LR|            54|     51|      11|       0|   MYR| CLT|     156|        0|             0|             10.0|      112.0|     118.0|    13.0|[1.0,1.0,1.0,600....|[1.0,1.0,1.0,600....|[0.40175182489543...|[0.69072344651053...|       0.0|\n",
            "|    1|         1|        1|       600|       708|           OO|     6988| N926SW|            68|     43|       7|      -1|   CWA| ORD|     213|        0|             0|              2.0|      221.0|     221.0|     1.0|[1.0,1.0,1.0,600....|[1.0,1.0,1.0,600....|[0.12889110082173...|[0.56409102990330...|       0.0|\n",
            "|    1|         1|        1|       600|       732|           OO|     6946| N907SW|            92|     67|      17|      -3|   SGF| ORD|     438|        0|             0|              2.0|      180.0|      99.0|     1.0|[1.0,1.0,1.0,600....|[1.0,1.0,1.0,600....|[0.21804336082460...|[0.60732618084121...|       0.0|\n",
            "|    1|         1|        1|       600|       732|           YV|     2728| N17275|           152|    131|       2|      -2|   ICT| PHX|     870|        0|             0|             10.0|      258.0|      87.0|     7.0|[1.0,1.0,1.0,600....|[1.0,1.0,1.0,600....|[0.19734136312543...|[0.59740946023326...|       0.0|\n",
            "|    1|         1|        1|       600|       733|           AA|     1505| N492AA|            93|     72|      15|      -2|   MCI| DFW|     460|        0|             0|              1.0|     2697.0|      33.0|     2.0|[1.0,1.0,1.0,600....|[1.0,1.0,1.0,600....|[0.34037864813154...|[0.66390769712008...|       0.0|\n",
            "|    1|         1|        1|       600|       759|           UA|     1415| N498UA|           239|    212|       5|      -5|   TPA| DEN|    1506|        0|             0|              6.0|     2426.0|      27.0|     3.0|[1.0,1.0,1.0,600....|[1.0,1.0,1.0,600....|[0.23766776159324...|[0.61664582320981...|       0.0|\n",
            "|    1|         1|        1|       600|       800|           OH|     5359| N924CA|           120|     97|      18|       0|   LEX| LGA|     604|        0|             0|             11.0|      629.0|     102.0|    14.0|[1.0,1.0,1.0,600....|[1.0,1.0,1.0,600....|[0.34710630228637...|[0.66690338550168...|       0.0|\n",
            "|    1|         1|        1|       600|       812|           NW|      246| N528US|            72|     45|       2|      -1|   MKE| DTW|     238|        0|             0|              3.0|     2036.0|      53.0|     6.0|[1.0,1.0,1.0,600....|[1.0,1.0,1.0,600....|[0.63473867307476...|[0.78065326506385...|       0.0|\n",
            "|    1|         1|        1|       600|       920|           OO|     6664| N738SK|           140|    120|      15|      -5|   EUG| DEN|     997|        0|             0|              2.0|      947.0|     122.0|     3.0|[1.0,1.0,1.0,600....|[1.0,1.0,1.0,600....|[-0.0113041336374...|[0.49434817391582...|       1.0|\n",
            "|    1|         1|        1|       605|       715|           MQ|     4385| N660CL|           130|     89|      14|      -2|   CLT| ORD|     599|        0|             0|              5.0|      855.0|      18.0|     1.0|[1.0,1.0,1.0,605....|[1.0,1.0,1.0,605....|[0.52074958529798...|[0.73913916846554...|       0.0|\n",
            "+-----+----------+---------+----------+----------+-------------+---------+-------+--------------+-------+--------+--------+------+----+--------+---------+--------------+-----------------+-----------+----------+--------+--------------------+--------------------+--------------------+--------------------+----------+\n",
            "only showing top 10 rows\n",
            "\n"
          ],
          "name": "stdout"
        }
      ]
    },
    {
      "cell_type": "code",
      "metadata": {
        "colab": {
          "base_uri": "https://localhost:8080/"
        },
        "id": "LjcTjGTfsjs0",
        "outputId": "88b6a3fe-681a-48e6-a676-a56b285ac9f6"
      },
      "source": [
        "evaluator_rf = MulticlassClassificationEvaluator(\r\n",
        "    labelCol=\"DelayLabel_BIN\", predictionCol=\"prediction\", metricName=\"accuracy\")\r\n",
        "accuracy_gbt_select= evaluator_rf.evaluate(predictions_gbt_select)\r\n",
        "print(\"Accuracy = %g\" % (accuracy_gbt_select))"
      ],
      "execution_count": null,
      "outputs": [
        {
          "output_type": "stream",
          "text": [
            "Accuracy = 0.592618\n"
          ],
          "name": "stdout"
        }
      ]
    },
    {
      "cell_type": "markdown",
      "metadata": {
        "id": "BXc0Dgmw2Q8x"
      },
      "source": [
        "MLPC (Feed forward Nerual Network)\r\n"
      ]
    },
    {
      "cell_type": "code",
      "metadata": {
        "id": "b6KhPuM02ZQA"
      },
      "source": [
        "##from pyspark.ml.classification import MultilayerPerceptronClassifier"
      ],
      "execution_count": null,
      "outputs": []
    },
    {
      "cell_type": "code",
      "metadata": {
        "id": "BHh6LcDE2aYq"
      },
      "source": [
        "##layers = [10, 6, 4 ,2]"
      ],
      "execution_count": null,
      "outputs": []
    },
    {
      "cell_type": "code",
      "metadata": {
        "id": "R4JwN4Fc2sih"
      },
      "source": [
        "##trainer_bin = MultilayerPerceptronClassifier(labelCol=\"DelayLabel_BIN\", featuresCol=\"selectedFeatures\",maxIter=100, layers=layers, blockSize=128, seed=1234)"
      ],
      "execution_count": null,
      "outputs": []
    },
    {
      "cell_type": "code",
      "metadata": {
        "id": "o3NLLQG03HUh"
      },
      "source": [
        "##pipeline_MLPC_bin = Pipeline(stages=[indexer_1, indexer_2, indexer_3, indexer_4, va, selector, trainer_bin])\r\n"
      ],
      "execution_count": null,
      "outputs": []
    },
    {
      "cell_type": "code",
      "metadata": {
        "colab": {
          "base_uri": "https://localhost:8080/",
          "height": 1000
        },
        "id": "dh76-5DGOFYt",
        "outputId": "2846cb82-99e9-41bd-8b40-804b054b403f"
      },
      "source": [
        "##model_MLPC_bin = pipeline_MLPC_bin.fit(train)"
      ],
      "execution_count": null,
      "outputs": [
        {
          "output_type": "error",
          "ename": "Py4JJavaError",
          "evalue": "ignored",
          "traceback": [
            "\u001b[0;31m---------------------------------------------------------------------------\u001b[0m",
            "\u001b[0;31mPy4JJavaError\u001b[0m                             Traceback (most recent call last)",
            "\u001b[0;32m<ipython-input-166-6e9e381f9d61>\u001b[0m in \u001b[0;36m<module>\u001b[0;34m()\u001b[0m\n\u001b[0;32m----> 1\u001b[0;31m \u001b[0mmodel_MLPC_bin\u001b[0m \u001b[0;34m=\u001b[0m \u001b[0mpipeline_MLPC_bin\u001b[0m\u001b[0;34m.\u001b[0m\u001b[0mfit\u001b[0m\u001b[0;34m(\u001b[0m\u001b[0mtrain\u001b[0m\u001b[0;34m)\u001b[0m\u001b[0;34m\u001b[0m\u001b[0;34m\u001b[0m\u001b[0m\n\u001b[0m",
            "\u001b[0;32m/content/spark-3.0.0-bin-hadoop3.2/python/pyspark/ml/base.py\u001b[0m in \u001b[0;36mfit\u001b[0;34m(self, dataset, params)\u001b[0m\n\u001b[1;32m    127\u001b[0m                 \u001b[0;32mreturn\u001b[0m \u001b[0mself\u001b[0m\u001b[0;34m.\u001b[0m\u001b[0mcopy\u001b[0m\u001b[0;34m(\u001b[0m\u001b[0mparams\u001b[0m\u001b[0;34m)\u001b[0m\u001b[0;34m.\u001b[0m\u001b[0m_fit\u001b[0m\u001b[0;34m(\u001b[0m\u001b[0mdataset\u001b[0m\u001b[0;34m)\u001b[0m\u001b[0;34m\u001b[0m\u001b[0;34m\u001b[0m\u001b[0m\n\u001b[1;32m    128\u001b[0m             \u001b[0;32melse\u001b[0m\u001b[0;34m:\u001b[0m\u001b[0;34m\u001b[0m\u001b[0;34m\u001b[0m\u001b[0m\n\u001b[0;32m--> 129\u001b[0;31m                 \u001b[0;32mreturn\u001b[0m \u001b[0mself\u001b[0m\u001b[0;34m.\u001b[0m\u001b[0m_fit\u001b[0m\u001b[0;34m(\u001b[0m\u001b[0mdataset\u001b[0m\u001b[0;34m)\u001b[0m\u001b[0;34m\u001b[0m\u001b[0;34m\u001b[0m\u001b[0m\n\u001b[0m\u001b[1;32m    130\u001b[0m         \u001b[0;32melse\u001b[0m\u001b[0;34m:\u001b[0m\u001b[0;34m\u001b[0m\u001b[0;34m\u001b[0m\u001b[0m\n\u001b[1;32m    131\u001b[0m             raise ValueError(\"Params must be either a param map or a list/tuple of param maps, \"\n",
            "\u001b[0;32m/content/spark-3.0.0-bin-hadoop3.2/python/pyspark/ml/pipeline.py\u001b[0m in \u001b[0;36m_fit\u001b[0;34m(self, dataset)\u001b[0m\n\u001b[1;32m    107\u001b[0m                     \u001b[0mdataset\u001b[0m \u001b[0;34m=\u001b[0m \u001b[0mstage\u001b[0m\u001b[0;34m.\u001b[0m\u001b[0mtransform\u001b[0m\u001b[0;34m(\u001b[0m\u001b[0mdataset\u001b[0m\u001b[0;34m)\u001b[0m\u001b[0;34m\u001b[0m\u001b[0;34m\u001b[0m\u001b[0m\n\u001b[1;32m    108\u001b[0m                 \u001b[0;32melse\u001b[0m\u001b[0;34m:\u001b[0m  \u001b[0;31m# must be an Estimator\u001b[0m\u001b[0;34m\u001b[0m\u001b[0;34m\u001b[0m\u001b[0m\n\u001b[0;32m--> 109\u001b[0;31m                     \u001b[0mmodel\u001b[0m \u001b[0;34m=\u001b[0m \u001b[0mstage\u001b[0m\u001b[0;34m.\u001b[0m\u001b[0mfit\u001b[0m\u001b[0;34m(\u001b[0m\u001b[0mdataset\u001b[0m\u001b[0;34m)\u001b[0m\u001b[0;34m\u001b[0m\u001b[0;34m\u001b[0m\u001b[0m\n\u001b[0m\u001b[1;32m    110\u001b[0m                     \u001b[0mtransformers\u001b[0m\u001b[0;34m.\u001b[0m\u001b[0mappend\u001b[0m\u001b[0;34m(\u001b[0m\u001b[0mmodel\u001b[0m\u001b[0;34m)\u001b[0m\u001b[0;34m\u001b[0m\u001b[0;34m\u001b[0m\u001b[0m\n\u001b[1;32m    111\u001b[0m                     \u001b[0;32mif\u001b[0m \u001b[0mi\u001b[0m \u001b[0;34m<\u001b[0m \u001b[0mindexOfLastEstimator\u001b[0m\u001b[0;34m:\u001b[0m\u001b[0;34m\u001b[0m\u001b[0;34m\u001b[0m\u001b[0m\n",
            "\u001b[0;32m/content/spark-3.0.0-bin-hadoop3.2/python/pyspark/ml/base.py\u001b[0m in \u001b[0;36mfit\u001b[0;34m(self, dataset, params)\u001b[0m\n\u001b[1;32m    127\u001b[0m                 \u001b[0;32mreturn\u001b[0m \u001b[0mself\u001b[0m\u001b[0;34m.\u001b[0m\u001b[0mcopy\u001b[0m\u001b[0;34m(\u001b[0m\u001b[0mparams\u001b[0m\u001b[0;34m)\u001b[0m\u001b[0;34m.\u001b[0m\u001b[0m_fit\u001b[0m\u001b[0;34m(\u001b[0m\u001b[0mdataset\u001b[0m\u001b[0;34m)\u001b[0m\u001b[0;34m\u001b[0m\u001b[0;34m\u001b[0m\u001b[0m\n\u001b[1;32m    128\u001b[0m             \u001b[0;32melse\u001b[0m\u001b[0;34m:\u001b[0m\u001b[0;34m\u001b[0m\u001b[0;34m\u001b[0m\u001b[0m\n\u001b[0;32m--> 129\u001b[0;31m                 \u001b[0;32mreturn\u001b[0m \u001b[0mself\u001b[0m\u001b[0;34m.\u001b[0m\u001b[0m_fit\u001b[0m\u001b[0;34m(\u001b[0m\u001b[0mdataset\u001b[0m\u001b[0;34m)\u001b[0m\u001b[0;34m\u001b[0m\u001b[0;34m\u001b[0m\u001b[0m\n\u001b[0m\u001b[1;32m    130\u001b[0m         \u001b[0;32melse\u001b[0m\u001b[0;34m:\u001b[0m\u001b[0;34m\u001b[0m\u001b[0;34m\u001b[0m\u001b[0m\n\u001b[1;32m    131\u001b[0m             raise ValueError(\"Params must be either a param map or a list/tuple of param maps, \"\n",
            "\u001b[0;32m/content/spark-3.0.0-bin-hadoop3.2/python/pyspark/ml/wrapper.py\u001b[0m in \u001b[0;36m_fit\u001b[0;34m(self, dataset)\u001b[0m\n\u001b[1;32m    319\u001b[0m \u001b[0;34m\u001b[0m\u001b[0m\n\u001b[1;32m    320\u001b[0m     \u001b[0;32mdef\u001b[0m \u001b[0m_fit\u001b[0m\u001b[0;34m(\u001b[0m\u001b[0mself\u001b[0m\u001b[0;34m,\u001b[0m \u001b[0mdataset\u001b[0m\u001b[0;34m)\u001b[0m\u001b[0;34m:\u001b[0m\u001b[0;34m\u001b[0m\u001b[0;34m\u001b[0m\u001b[0m\n\u001b[0;32m--> 321\u001b[0;31m         \u001b[0mjava_model\u001b[0m \u001b[0;34m=\u001b[0m \u001b[0mself\u001b[0m\u001b[0;34m.\u001b[0m\u001b[0m_fit_java\u001b[0m\u001b[0;34m(\u001b[0m\u001b[0mdataset\u001b[0m\u001b[0;34m)\u001b[0m\u001b[0;34m\u001b[0m\u001b[0;34m\u001b[0m\u001b[0m\n\u001b[0m\u001b[1;32m    322\u001b[0m         \u001b[0mmodel\u001b[0m \u001b[0;34m=\u001b[0m \u001b[0mself\u001b[0m\u001b[0;34m.\u001b[0m\u001b[0m_create_model\u001b[0m\u001b[0;34m(\u001b[0m\u001b[0mjava_model\u001b[0m\u001b[0;34m)\u001b[0m\u001b[0;34m\u001b[0m\u001b[0;34m\u001b[0m\u001b[0m\n\u001b[1;32m    323\u001b[0m         \u001b[0;32mreturn\u001b[0m \u001b[0mself\u001b[0m\u001b[0;34m.\u001b[0m\u001b[0m_copyValues\u001b[0m\u001b[0;34m(\u001b[0m\u001b[0mmodel\u001b[0m\u001b[0;34m)\u001b[0m\u001b[0;34m\u001b[0m\u001b[0;34m\u001b[0m\u001b[0m\n",
            "\u001b[0;32m/content/spark-3.0.0-bin-hadoop3.2/python/pyspark/ml/wrapper.py\u001b[0m in \u001b[0;36m_fit_java\u001b[0;34m(self, dataset)\u001b[0m\n\u001b[1;32m    316\u001b[0m         \"\"\"\n\u001b[1;32m    317\u001b[0m         \u001b[0mself\u001b[0m\u001b[0;34m.\u001b[0m\u001b[0m_transfer_params_to_java\u001b[0m\u001b[0;34m(\u001b[0m\u001b[0;34m)\u001b[0m\u001b[0;34m\u001b[0m\u001b[0;34m\u001b[0m\u001b[0m\n\u001b[0;32m--> 318\u001b[0;31m         \u001b[0;32mreturn\u001b[0m \u001b[0mself\u001b[0m\u001b[0;34m.\u001b[0m\u001b[0m_java_obj\u001b[0m\u001b[0;34m.\u001b[0m\u001b[0mfit\u001b[0m\u001b[0;34m(\u001b[0m\u001b[0mdataset\u001b[0m\u001b[0;34m.\u001b[0m\u001b[0m_jdf\u001b[0m\u001b[0;34m)\u001b[0m\u001b[0;34m\u001b[0m\u001b[0;34m\u001b[0m\u001b[0m\n\u001b[0m\u001b[1;32m    319\u001b[0m \u001b[0;34m\u001b[0m\u001b[0m\n\u001b[1;32m    320\u001b[0m     \u001b[0;32mdef\u001b[0m \u001b[0m_fit\u001b[0m\u001b[0;34m(\u001b[0m\u001b[0mself\u001b[0m\u001b[0;34m,\u001b[0m \u001b[0mdataset\u001b[0m\u001b[0;34m)\u001b[0m\u001b[0;34m:\u001b[0m\u001b[0;34m\u001b[0m\u001b[0;34m\u001b[0m\u001b[0m\n",
            "\u001b[0;32m/content/spark-3.0.0-bin-hadoop3.2/python/lib/py4j-0.10.9-src.zip/py4j/java_gateway.py\u001b[0m in \u001b[0;36m__call__\u001b[0;34m(self, *args)\u001b[0m\n\u001b[1;32m   1303\u001b[0m         \u001b[0manswer\u001b[0m \u001b[0;34m=\u001b[0m \u001b[0mself\u001b[0m\u001b[0;34m.\u001b[0m\u001b[0mgateway_client\u001b[0m\u001b[0;34m.\u001b[0m\u001b[0msend_command\u001b[0m\u001b[0;34m(\u001b[0m\u001b[0mcommand\u001b[0m\u001b[0;34m)\u001b[0m\u001b[0;34m\u001b[0m\u001b[0;34m\u001b[0m\u001b[0m\n\u001b[1;32m   1304\u001b[0m         return_value = get_return_value(\n\u001b[0;32m-> 1305\u001b[0;31m             answer, self.gateway_client, self.target_id, self.name)\n\u001b[0m\u001b[1;32m   1306\u001b[0m \u001b[0;34m\u001b[0m\u001b[0m\n\u001b[1;32m   1307\u001b[0m         \u001b[0;32mfor\u001b[0m \u001b[0mtemp_arg\u001b[0m \u001b[0;32min\u001b[0m \u001b[0mtemp_args\u001b[0m\u001b[0;34m:\u001b[0m\u001b[0;34m\u001b[0m\u001b[0;34m\u001b[0m\u001b[0m\n",
            "\u001b[0;32m/content/spark-3.0.0-bin-hadoop3.2/python/pyspark/sql/utils.py\u001b[0m in \u001b[0;36mdeco\u001b[0;34m(*a, **kw)\u001b[0m\n\u001b[1;32m    129\u001b[0m     \u001b[0;32mdef\u001b[0m \u001b[0mdeco\u001b[0m\u001b[0;34m(\u001b[0m\u001b[0;34m*\u001b[0m\u001b[0ma\u001b[0m\u001b[0;34m,\u001b[0m \u001b[0;34m**\u001b[0m\u001b[0mkw\u001b[0m\u001b[0;34m)\u001b[0m\u001b[0;34m:\u001b[0m\u001b[0;34m\u001b[0m\u001b[0;34m\u001b[0m\u001b[0m\n\u001b[1;32m    130\u001b[0m         \u001b[0;32mtry\u001b[0m\u001b[0;34m:\u001b[0m\u001b[0;34m\u001b[0m\u001b[0;34m\u001b[0m\u001b[0m\n\u001b[0;32m--> 131\u001b[0;31m             \u001b[0;32mreturn\u001b[0m \u001b[0mf\u001b[0m\u001b[0;34m(\u001b[0m\u001b[0;34m*\u001b[0m\u001b[0ma\u001b[0m\u001b[0;34m,\u001b[0m \u001b[0;34m**\u001b[0m\u001b[0mkw\u001b[0m\u001b[0;34m)\u001b[0m\u001b[0;34m\u001b[0m\u001b[0;34m\u001b[0m\u001b[0m\n\u001b[0m\u001b[1;32m    132\u001b[0m         \u001b[0;32mexcept\u001b[0m \u001b[0mpy4j\u001b[0m\u001b[0;34m.\u001b[0m\u001b[0mprotocol\u001b[0m\u001b[0;34m.\u001b[0m\u001b[0mPy4JJavaError\u001b[0m \u001b[0;32mas\u001b[0m \u001b[0me\u001b[0m\u001b[0;34m:\u001b[0m\u001b[0;34m\u001b[0m\u001b[0;34m\u001b[0m\u001b[0m\n\u001b[1;32m    133\u001b[0m             \u001b[0mconverted\u001b[0m \u001b[0;34m=\u001b[0m \u001b[0mconvert_exception\u001b[0m\u001b[0;34m(\u001b[0m\u001b[0me\u001b[0m\u001b[0;34m.\u001b[0m\u001b[0mjava_exception\u001b[0m\u001b[0;34m)\u001b[0m\u001b[0;34m\u001b[0m\u001b[0;34m\u001b[0m\u001b[0m\n",
            "\u001b[0;32m/content/spark-3.0.0-bin-hadoop3.2/python/lib/py4j-0.10.9-src.zip/py4j/protocol.py\u001b[0m in \u001b[0;36mget_return_value\u001b[0;34m(answer, gateway_client, target_id, name)\u001b[0m\n\u001b[1;32m    326\u001b[0m                 raise Py4JJavaError(\n\u001b[1;32m    327\u001b[0m                     \u001b[0;34m\"An error occurred while calling {0}{1}{2}.\\n\"\u001b[0m\u001b[0;34m.\u001b[0m\u001b[0;34m\u001b[0m\u001b[0;34m\u001b[0m\u001b[0m\n\u001b[0;32m--> 328\u001b[0;31m                     format(target_id, \".\", name), value)\n\u001b[0m\u001b[1;32m    329\u001b[0m             \u001b[0;32melse\u001b[0m\u001b[0;34m:\u001b[0m\u001b[0;34m\u001b[0m\u001b[0;34m\u001b[0m\u001b[0m\n\u001b[1;32m    330\u001b[0m                 raise Py4JError(\n",
            "\u001b[0;31mPy4JJavaError\u001b[0m: An error occurred while calling o8209.fit.\n: org.apache.spark.SparkException: Job aborted due to stage failure: Task 2 in stage 1972.0 failed 1 times, most recent failure: Lost task 2.0 in stage 1972.0 (TID 22814, 65ce653faf77, executor driver): java.lang.ArrayIndexOutOfBoundsException\n\tat java.lang.System.arraycopy(Native Method)\n\tat org.apache.spark.ml.ann.DataStacker.$anonfun$stack$4(Layer.scala:665)\n\tat org.apache.spark.ml.ann.DataStacker.$anonfun$stack$4$adapted(Layer.scala:664)\n\tat scala.collection.immutable.List.foreach(List.scala:392)\n\tat org.apache.spark.ml.ann.DataStacker.$anonfun$stack$3(Layer.scala:664)\n\tat scala.collection.Iterator$$anon$10.next(Iterator.scala:459)\n\tat scala.collection.Iterator$$anon$10.next(Iterator.scala:459)\n\tat org.apache.spark.storage.memory.MemoryStore.putIterator(MemoryStore.scala:222)\n\tat org.apache.spark.storage.memory.MemoryStore.putIteratorAsValues(MemoryStore.scala:299)\n\tat org.apache.spark.storage.BlockManager.$anonfun$doPutIterator$1(BlockManager.scala:1371)\n\tat org.apache.spark.storage.BlockManager.org$apache$spark$storage$BlockManager$$doPut(BlockManager.scala:1298)\n\tat org.apache.spark.storage.BlockManager.doPutIterator(BlockManager.scala:1362)\n\tat org.apache.spark.storage.BlockManager.getOrElseUpdate(BlockManager.scala:1186)\n\tat org.apache.spark.rdd.RDD.getOrCompute(RDD.scala:360)\n\tat org.apache.spark.rdd.RDD.iterator(RDD.scala:311)\n\tat org.apache.spark.scheduler.ResultTask.runTask(ResultTask.scala:90)\n\tat org.apache.spark.scheduler.Task.run(Task.scala:127)\n\tat org.apache.spark.executor.Executor$TaskRunner.$anonfun$run$3(Executor.scala:444)\n\tat org.apache.spark.util.Utils$.tryWithSafeFinally(Utils.scala:1377)\n\tat org.apache.spark.executor.Executor$TaskRunner.run(Executor.scala:447)\n\tat java.util.concurrent.ThreadPoolExecutor.runWorker(ThreadPoolExecutor.java:1149)\n\tat java.util.concurrent.ThreadPoolExecutor$Worker.run(ThreadPoolExecutor.java:624)\n\tat java.lang.Thread.run(Thread.java:748)\n\nDriver stacktrace:\n\tat org.apache.spark.scheduler.DAGScheduler.failJobAndIndependentStages(DAGScheduler.scala:2023)\n\tat org.apache.spark.scheduler.DAGScheduler.$anonfun$abortStage$2(DAGScheduler.scala:1972)\n\tat org.apache.spark.scheduler.DAGScheduler.$anonfun$abortStage$2$adapted(DAGScheduler.scala:1971)\n\tat scala.collection.mutable.ResizableArray.foreach(ResizableArray.scala:62)\n\tat scala.collection.mutable.ResizableArray.foreach$(ResizableArray.scala:55)\n\tat scala.collection.mutable.ArrayBuffer.foreach(ArrayBuffer.scala:49)\n\tat org.apache.spark.scheduler.DAGScheduler.abortStage(DAGScheduler.scala:1971)\n\tat org.apache.spark.scheduler.DAGScheduler.$anonfun$handleTaskSetFailed$1(DAGScheduler.scala:950)\n\tat org.apache.spark.scheduler.DAGScheduler.$anonfun$handleTaskSetFailed$1$adapted(DAGScheduler.scala:950)\n\tat scala.Option.foreach(Option.scala:407)\n\tat org.apache.spark.scheduler.DAGScheduler.handleTaskSetFailed(DAGScheduler.scala:950)\n\tat org.apache.spark.scheduler.DAGSchedulerEventProcessLoop.doOnReceive(DAGScheduler.scala:2203)\n\tat org.apache.spark.scheduler.DAGSchedulerEventProcessLoop.onReceive(DAGScheduler.scala:2152)\n\tat org.apache.spark.scheduler.DAGSchedulerEventProcessLoop.onReceive(DAGScheduler.scala:2141)\n\tat org.apache.spark.util.EventLoop$$anon$1.run(EventLoop.scala:49)\n\tat org.apache.spark.scheduler.DAGScheduler.runJob(DAGScheduler.scala:752)\n\tat org.apache.spark.SparkContext.runJob(SparkContext.scala:2093)\n\tat org.apache.spark.SparkContext.runJob(SparkContext.scala:2114)\n\tat org.apache.spark.SparkContext.runJob(SparkContext.scala:2133)\n\tat org.apache.spark.SparkContext.runJob(SparkContext.scala:2158)\n\tat org.apache.spark.rdd.RDD.count(RDD.scala:1227)\n\tat org.apache.spark.mllib.optimization.LBFGS$.runLBFGS(LBFGS.scala:190)\n\tat org.apache.spark.mllib.optimization.LBFGS.optimize(LBFGS.scala:147)\n\tat org.apache.spark.ml.ann.FeedForwardTrainer.train(Layer.scala:854)\n\tat org.apache.spark.ml.classification.MultilayerPerceptronClassifier.$anonfun$train$1(MultilayerPerceptronClassifier.scala:230)\n\tat org.apache.spark.ml.util.Instrumentation$.$anonfun$instrumented$1(Instrumentation.scala:191)\n\tat scala.util.Try$.apply(Try.scala:213)\n\tat org.apache.spark.ml.util.Instrumentation$.instrumented(Instrumentation.scala:191)\n\tat org.apache.spark.ml.classification.MultilayerPerceptronClassifier.train(MultilayerPerceptronClassifier.scala:186)\n\tat org.apache.spark.ml.classification.MultilayerPerceptronClassifier.train(MultilayerPerceptronClassifier.scala:95)\n\tat org.apache.spark.ml.Predictor.fit(Predictor.scala:150)\n\tat sun.reflect.NativeMethodAccessorImpl.invoke0(Native Method)\n\tat sun.reflect.NativeMethodAccessorImpl.invoke(NativeMethodAccessorImpl.java:62)\n\tat sun.reflect.DelegatingMethodAccessorImpl.invoke(DelegatingMethodAccessorImpl.java:43)\n\tat java.lang.reflect.Method.invoke(Method.java:498)\n\tat py4j.reflection.MethodInvoker.invoke(MethodInvoker.java:244)\n\tat py4j.reflection.ReflectionEngine.invoke(ReflectionEngine.java:357)\n\tat py4j.Gateway.invoke(Gateway.java:282)\n\tat py4j.commands.AbstractCommand.invokeMethod(AbstractCommand.java:132)\n\tat py4j.commands.CallCommand.execute(CallCommand.java:79)\n\tat py4j.GatewayConnection.run(GatewayConnection.java:238)\n\tat java.lang.Thread.run(Thread.java:748)\nCaused by: java.lang.ArrayIndexOutOfBoundsException\n\tat java.lang.System.arraycopy(Native Method)\n\tat org.apache.spark.ml.ann.DataStacker.$anonfun$stack$4(Layer.scala:665)\n\tat org.apache.spark.ml.ann.DataStacker.$anonfun$stack$4$adapted(Layer.scala:664)\n\tat scala.collection.immutable.List.foreach(List.scala:392)\n\tat org.apache.spark.ml.ann.DataStacker.$anonfun$stack$3(Layer.scala:664)\n\tat scala.collection.Iterator$$anon$10.next(Iterator.scala:459)\n\tat scala.collection.Iterator$$anon$10.next(Iterator.scala:459)\n\tat org.apache.spark.storage.memory.MemoryStore.putIterator(MemoryStore.scala:222)\n\tat org.apache.spark.storage.memory.MemoryStore.putIteratorAsValues(MemoryStore.scala:299)\n\tat org.apache.spark.storage.BlockManager.$anonfun$doPutIterator$1(BlockManager.scala:1371)\n\tat org.apache.spark.storage.BlockManager.org$apache$spark$storage$BlockManager$$doPut(BlockManager.scala:1298)\n\tat org.apache.spark.storage.BlockManager.doPutIterator(BlockManager.scala:1362)\n\tat org.apache.spark.storage.BlockManager.getOrElseUpdate(BlockManager.scala:1186)\n\tat org.apache.spark.rdd.RDD.getOrCompute(RDD.scala:360)\n\tat org.apache.spark.rdd.RDD.iterator(RDD.scala:311)\n\tat org.apache.spark.scheduler.ResultTask.runTask(ResultTask.scala:90)\n\tat org.apache.spark.scheduler.Task.run(Task.scala:127)\n\tat org.apache.spark.executor.Executor$TaskRunner.$anonfun$run$3(Executor.scala:444)\n\tat org.apache.spark.util.Utils$.tryWithSafeFinally(Utils.scala:1377)\n\tat org.apache.spark.executor.Executor$TaskRunner.run(Executor.scala:447)\n\tat java.util.concurrent.ThreadPoolExecutor.runWorker(ThreadPoolExecutor.java:1149)\n\tat java.util.concurrent.ThreadPoolExecutor$Worker.run(ThreadPoolExecutor.java:624)\n\t... 1 more\n"
          ]
        }
      ]
    }
  ]
}